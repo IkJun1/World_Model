{
 "cells": [
  {
   "cell_type": "markdown",
   "id": "5d03b9bd",
   "metadata": {},
   "source": [
    "# Collect data"
   ]
  },
  {
   "cell_type": "code",
   "execution_count": null,
   "id": "a19892ec",
   "metadata": {},
   "outputs": [],
   "source": [
    "import gymnasium as gym\n",
    "import numpy as np\n",
    "from tqdm import tqdm\n",
    "import os\n",
    "\n",
    "# --- 설정값 ---\n",
    "TOTAL_STEPS = 20000\n",
    "ENV_ID = 'LunarLander-v3'\n",
    "\n",
    "print(f\"'{ENV_ID}' 환경에서 총 {TOTAL_STEPS} 스텝의 데이터를 수집합니다.\")\n",
    "\n",
    "# --- 환경 초기화 ---\n",
    "env = gym.make(ENV_ID, render_mode='rgb_array')\n",
    "\n",
    "# --- 데이터 버퍼 ---\n",
    "obs_buffer = []\n",
    "frame_buffer = []\n",
    "action_buffer = []\n",
    "reward_buffer = []\n",
    "terminated_buffer = []\n",
    "truncated_buffer = []\n",
    "\n",
    "observation, info = env.reset()\n",
    "\n",
    "for _ in tqdm(range(TOTAL_STEPS)):\n",
    "    action = env.action_space.sample()\n",
    "    next_observation, reward, terminated, truncated, info = env.step(action)\n",
    "    \n",
    "    # 버퍼에 저장\n",
    "    obs_buffer.append(observation)  # 상태 (벡터)\n",
    "    frame = env.render()            # 프레임 이미지\n",
    "    frame_buffer.append(frame)     # 이미지 추가\n",
    "\n",
    "    action_buffer.append(action)\n",
    "    reward_buffer.append(reward)\n",
    "    terminated_buffer.append(terminated)\n",
    "    truncated_buffer.append(truncated)\n",
    "\n",
    "    if terminated or truncated:\n",
    "        observation, info = env.reset()\n",
    "    else:\n",
    "        observation = next_observation\n",
    "\n",
    "env.close()\n",
    "\n",
    "print(f\"\\n데이터 수집 완료! 총 {len(obs_buffer)}개의 경험을 저장했습니다.\")\n",
    "\n",
    "# --- 저장 디렉토리 만들기 ---\n",
    "os.makedirs(\"data\", exist_ok=True)\n",
    "\n",
    "# --- 저장 ---\n",
    "np.savez_compressed(\n",
    "    f\"data/{ENV_ID}_with_frames_1.npz\",\n",
    "    observations=np.array(obs_buffer, dtype=np.float32),  # (100000, 8)\n",
    "    frames=np.array(frame_buffer, dtype=np.uint8),        # (100000, H, W, 3)\n",
    "    actions=np.array(action_buffer, dtype=np.int8),\n",
    "    rewards=np.array(reward_buffer, dtype=np.float32),\n",
    "    terminateds=np.array(terminated_buffer, dtype=np.bool_),\n",
    "    truncateds=np.array(truncated_buffer, dtype=np.bool_)\n",
    ")\n",
    "\n",
    "print(f\"✅ '{ENV_ID}_with_frames_1.npz' 파일로 프레임 포함 데이터 저장 완료!\")"
   ]
  },
  {
   "cell_type": "code",
   "execution_count": 2,
   "id": "d029a9e5",
   "metadata": {},
   "outputs": [],
   "source": [
    "import numpy as np\n",
    "data = np.load('data/LunarLander-v3.npz')\n",
    "observations_raw = data['frames']\n",
    "actions = data['actions']\n",
    "rewards = data['rewards']"
   ]
  },
  {
   "cell_type": "markdown",
   "id": "0985f6e3",
   "metadata": {},
   "source": [
    "# VAE train"
   ]
  },
  {
   "cell_type": "code",
   "execution_count": 3,
   "id": "7af45596",
   "metadata": {},
   "outputs": [
    {
     "data": {
      "application/vnd.jupyter.widget-view+json": {
       "model_id": "4346c03325ed41d3b8080a613c0a8291",
       "version_major": 2,
       "version_minor": 0
      },
      "text/plain": [
       "  0%|          | 0/40 [00:00<?, ?it/s]"
      ]
     },
     "metadata": {},
     "output_type": "display_data"
    },
    {
     "name": "stdout",
     "output_type": "stream",
     "text": [
      "Epoch 0, Everage loss: 7443.214941\n"
     ]
    },
    {
     "data": {
      "application/vnd.jupyter.widget-view+json": {
       "model_id": "d530e6f8d2d040ad80253989957a3c8c",
       "version_major": 2,
       "version_minor": 0
      },
      "text/plain": [
       "  0%|          | 0/40 [00:00<?, ?it/s]"
      ]
     },
     "metadata": {},
     "output_type": "display_data"
    },
    {
     "name": "stdout",
     "output_type": "stream",
     "text": [
      "Epoch 1, Everage loss: 2710.046167\n"
     ]
    },
    {
     "data": {
      "application/vnd.jupyter.widget-view+json": {
       "model_id": "1f692e81f6ae4b89b7a8646f0075e3b0",
       "version_major": 2,
       "version_minor": 0
      },
      "text/plain": [
       "  0%|          | 0/40 [00:00<?, ?it/s]"
      ]
     },
     "metadata": {},
     "output_type": "display_data"
    },
    {
     "name": "stdout",
     "output_type": "stream",
     "text": [
      "Epoch 2, Everage loss: 1637.219833\n"
     ]
    },
    {
     "data": {
      "application/vnd.jupyter.widget-view+json": {
       "model_id": "791ebeae8a64448a9ade91ee68dbc528",
       "version_major": 2,
       "version_minor": 0
      },
      "text/plain": [
       "  0%|          | 0/40 [00:00<?, ?it/s]"
      ]
     },
     "metadata": {},
     "output_type": "display_data"
    },
    {
     "name": "stdout",
     "output_type": "stream",
     "text": [
      "Epoch 3, Everage loss: 1438.573758\n"
     ]
    },
    {
     "data": {
      "application/vnd.jupyter.widget-view+json": {
       "model_id": "b34a3d33ed2c46cdad6a4885ebeb37b4",
       "version_major": 2,
       "version_minor": 0
      },
      "text/plain": [
       "  0%|          | 0/40 [00:00<?, ?it/s]"
      ]
     },
     "metadata": {},
     "output_type": "display_data"
    },
    {
     "name": "stdout",
     "output_type": "stream",
     "text": [
      "Epoch 4, Everage loss: 1369.135736\n"
     ]
    },
    {
     "data": {
      "application/vnd.jupyter.widget-view+json": {
       "model_id": "03b4f29a19704fc2b70a5c9ae62c9f20",
       "version_major": 2,
       "version_minor": 0
      },
      "text/plain": [
       "  0%|          | 0/40 [00:00<?, ?it/s]"
      ]
     },
     "metadata": {},
     "output_type": "display_data"
    },
    {
     "name": "stdout",
     "output_type": "stream",
     "text": [
      "Epoch 5, Everage loss: 1328.823199\n"
     ]
    },
    {
     "data": {
      "application/vnd.jupyter.widget-view+json": {
       "model_id": "f2c414e8f3c040fb8253248759d100e4",
       "version_major": 2,
       "version_minor": 0
      },
      "text/plain": [
       "  0%|          | 0/40 [00:00<?, ?it/s]"
      ]
     },
     "metadata": {},
     "output_type": "display_data"
    },
    {
     "name": "stdout",
     "output_type": "stream",
     "text": [
      "Epoch 6, Everage loss: 1293.600644\n"
     ]
    },
    {
     "data": {
      "application/vnd.jupyter.widget-view+json": {
       "model_id": "23fa21d72efb4c37bb3b7db8cb901b54",
       "version_major": 2,
       "version_minor": 0
      },
      "text/plain": [
       "  0%|          | 0/40 [00:00<?, ?it/s]"
      ]
     },
     "metadata": {},
     "output_type": "display_data"
    },
    {
     "name": "stdout",
     "output_type": "stream",
     "text": [
      "Epoch 7, Everage loss: 1131.151344\n"
     ]
    },
    {
     "data": {
      "application/vnd.jupyter.widget-view+json": {
       "model_id": "38ea3238d95645b9b0297fa4c54e9e08",
       "version_major": 2,
       "version_minor": 0
      },
      "text/plain": [
       "  0%|          | 0/40 [00:00<?, ?it/s]"
      ]
     },
     "metadata": {},
     "output_type": "display_data"
    },
    {
     "name": "stdout",
     "output_type": "stream",
     "text": [
      "Epoch 8, Everage loss: 879.937886\n"
     ]
    },
    {
     "data": {
      "application/vnd.jupyter.widget-view+json": {
       "model_id": "02873c66f6ed428f9a5f5dd2c13e2280",
       "version_major": 2,
       "version_minor": 0
      },
      "text/plain": [
       "  0%|          | 0/40 [00:00<?, ?it/s]"
      ]
     },
     "metadata": {},
     "output_type": "display_data"
    },
    {
     "name": "stdout",
     "output_type": "stream",
     "text": [
      "Epoch 9, Everage loss: 812.296680\n"
     ]
    },
    {
     "data": {
      "application/vnd.jupyter.widget-view+json": {
       "model_id": "c0ff19b21c3e4006a9c8bfc17b38527a",
       "version_major": 2,
       "version_minor": 0
      },
      "text/plain": [
       "  0%|          | 0/40 [00:00<?, ?it/s]"
      ]
     },
     "metadata": {},
     "output_type": "display_data"
    },
    {
     "name": "stdout",
     "output_type": "stream",
     "text": [
      "Epoch 10, Everage loss: 777.721548\n"
     ]
    },
    {
     "data": {
      "application/vnd.jupyter.widget-view+json": {
       "model_id": "e6825140a5fa4f0893110a0084d40131",
       "version_major": 2,
       "version_minor": 0
      },
      "text/plain": [
       "  0%|          | 0/40 [00:00<?, ?it/s]"
      ]
     },
     "metadata": {},
     "output_type": "display_data"
    },
    {
     "name": "stdout",
     "output_type": "stream",
     "text": [
      "Epoch 11, Everage loss: 758.594362\n"
     ]
    },
    {
     "data": {
      "application/vnd.jupyter.widget-view+json": {
       "model_id": "4bf7e49432c14fc99e785e0ceaa11a1d",
       "version_major": 2,
       "version_minor": 0
      },
      "text/plain": [
       "  0%|          | 0/40 [00:00<?, ?it/s]"
      ]
     },
     "metadata": {},
     "output_type": "display_data"
    },
    {
     "name": "stdout",
     "output_type": "stream",
     "text": [
      "Epoch 12, Everage loss: 739.079005\n"
     ]
    },
    {
     "data": {
      "application/vnd.jupyter.widget-view+json": {
       "model_id": "2c42c4b27c29413da847bb88e41bf3dd",
       "version_major": 2,
       "version_minor": 0
      },
      "text/plain": [
       "  0%|          | 0/40 [00:00<?, ?it/s]"
      ]
     },
     "metadata": {},
     "output_type": "display_data"
    },
    {
     "name": "stdout",
     "output_type": "stream",
     "text": [
      "Epoch 13, Everage loss: 719.606462\n"
     ]
    },
    {
     "data": {
      "application/vnd.jupyter.widget-view+json": {
       "model_id": "6a7e7ab5169c4ee28b3d29087464aa47",
       "version_major": 2,
       "version_minor": 0
      },
      "text/plain": [
       "  0%|          | 0/40 [00:00<?, ?it/s]"
      ]
     },
     "metadata": {},
     "output_type": "display_data"
    },
    {
     "name": "stdout",
     "output_type": "stream",
     "text": [
      "Epoch 14, Everage loss: 707.805038\n"
     ]
    },
    {
     "data": {
      "application/vnd.jupyter.widget-view+json": {
       "model_id": "72378deba7564c1f97b518da20fe74c4",
       "version_major": 2,
       "version_minor": 0
      },
      "text/plain": [
       "  0%|          | 0/40 [00:00<?, ?it/s]"
      ]
     },
     "metadata": {},
     "output_type": "display_data"
    },
    {
     "name": "stdout",
     "output_type": "stream",
     "text": [
      "Epoch 15, Everage loss: 699.833240\n"
     ]
    },
    {
     "data": {
      "application/vnd.jupyter.widget-view+json": {
       "model_id": "9d7e9c110e4046028c860a66461b15a9",
       "version_major": 2,
       "version_minor": 0
      },
      "text/plain": [
       "  0%|          | 0/40 [00:00<?, ?it/s]"
      ]
     },
     "metadata": {},
     "output_type": "display_data"
    },
    {
     "name": "stdout",
     "output_type": "stream",
     "text": [
      "Epoch 16, Everage loss: 681.529964\n"
     ]
    },
    {
     "data": {
      "application/vnd.jupyter.widget-view+json": {
       "model_id": "acb7454a8e50475c9e103246c9d0b076",
       "version_major": 2,
       "version_minor": 0
      },
      "text/plain": [
       "  0%|          | 0/40 [00:00<?, ?it/s]"
      ]
     },
     "metadata": {},
     "output_type": "display_data"
    },
    {
     "name": "stdout",
     "output_type": "stream",
     "text": [
      "Epoch 17, Everage loss: 639.603987\n"
     ]
    },
    {
     "data": {
      "application/vnd.jupyter.widget-view+json": {
       "model_id": "b9c354a309dc4816b1b8c793c1d1481b",
       "version_major": 2,
       "version_minor": 0
      },
      "text/plain": [
       "  0%|          | 0/40 [00:00<?, ?it/s]"
      ]
     },
     "metadata": {},
     "output_type": "display_data"
    },
    {
     "name": "stdout",
     "output_type": "stream",
     "text": [
      "Epoch 18, Everage loss: 608.899225\n"
     ]
    },
    {
     "data": {
      "application/vnd.jupyter.widget-view+json": {
       "model_id": "4ef10323e48442cb8d3ac29508ed0236",
       "version_major": 2,
       "version_minor": 0
      },
      "text/plain": [
       "  0%|          | 0/40 [00:00<?, ?it/s]"
      ]
     },
     "metadata": {},
     "output_type": "display_data"
    },
    {
     "name": "stdout",
     "output_type": "stream",
     "text": [
      "Epoch 19, Everage loss: 592.652435\n"
     ]
    },
    {
     "data": {
      "application/vnd.jupyter.widget-view+json": {
       "model_id": "2fd45a7d69a646dcbda10ec8a1691b75",
       "version_major": 2,
       "version_minor": 0
      },
      "text/plain": [
       "  0%|          | 0/40 [00:00<?, ?it/s]"
      ]
     },
     "metadata": {},
     "output_type": "display_data"
    },
    {
     "name": "stdout",
     "output_type": "stream",
     "text": [
      "Epoch 20, Everage loss: 573.774036\n"
     ]
    },
    {
     "data": {
      "application/vnd.jupyter.widget-view+json": {
       "model_id": "e3addfdee55a47ad83100051ad3e6fb8",
       "version_major": 2,
       "version_minor": 0
      },
      "text/plain": [
       "  0%|          | 0/40 [00:00<?, ?it/s]"
      ]
     },
     "metadata": {},
     "output_type": "display_data"
    },
    {
     "name": "stdout",
     "output_type": "stream",
     "text": [
      "Epoch 21, Everage loss: 548.294791\n"
     ]
    },
    {
     "data": {
      "application/vnd.jupyter.widget-view+json": {
       "model_id": "6aff2b78d7d3437b8936f502577237b4",
       "version_major": 2,
       "version_minor": 0
      },
      "text/plain": [
       "  0%|          | 0/40 [00:00<?, ?it/s]"
      ]
     },
     "metadata": {},
     "output_type": "display_data"
    },
    {
     "name": "stdout",
     "output_type": "stream",
     "text": [
      "Epoch 22, Everage loss: 525.135447\n"
     ]
    },
    {
     "data": {
      "application/vnd.jupyter.widget-view+json": {
       "model_id": "142df91b53f645ba883b27850970bab1",
       "version_major": 2,
       "version_minor": 0
      },
      "text/plain": [
       "  0%|          | 0/40 [00:00<?, ?it/s]"
      ]
     },
     "metadata": {},
     "output_type": "display_data"
    },
    {
     "name": "stdout",
     "output_type": "stream",
     "text": [
      "Epoch 23, Everage loss: 513.224900\n"
     ]
    },
    {
     "data": {
      "application/vnd.jupyter.widget-view+json": {
       "model_id": "9c819855baf44d9a8489a5d1dc14a58c",
       "version_major": 2,
       "version_minor": 0
      },
      "text/plain": [
       "  0%|          | 0/40 [00:00<?, ?it/s]"
      ]
     },
     "metadata": {},
     "output_type": "display_data"
    },
    {
     "name": "stdout",
     "output_type": "stream",
     "text": [
      "Epoch 24, Everage loss: 500.594671\n"
     ]
    },
    {
     "data": {
      "application/vnd.jupyter.widget-view+json": {
       "model_id": "4e79832e43fe4ed88327fc8723b65623",
       "version_major": 2,
       "version_minor": 0
      },
      "text/plain": [
       "  0%|          | 0/40 [00:00<?, ?it/s]"
      ]
     },
     "metadata": {},
     "output_type": "display_data"
    },
    {
     "name": "stdout",
     "output_type": "stream",
     "text": [
      "Epoch 25, Everage loss: 491.615197\n"
     ]
    },
    {
     "data": {
      "application/vnd.jupyter.widget-view+json": {
       "model_id": "a247cc50a08f469998ad7935d1546ceb",
       "version_major": 2,
       "version_minor": 0
      },
      "text/plain": [
       "  0%|          | 0/40 [00:00<?, ?it/s]"
      ]
     },
     "metadata": {},
     "output_type": "display_data"
    },
    {
     "name": "stdout",
     "output_type": "stream",
     "text": [
      "Epoch 26, Everage loss: 487.582455\n"
     ]
    },
    {
     "data": {
      "application/vnd.jupyter.widget-view+json": {
       "model_id": "e2574e4c2541484a833f567fc65c7d6e",
       "version_major": 2,
       "version_minor": 0
      },
      "text/plain": [
       "  0%|          | 0/40 [00:00<?, ?it/s]"
      ]
     },
     "metadata": {},
     "output_type": "display_data"
    },
    {
     "name": "stdout",
     "output_type": "stream",
     "text": [
      "Epoch 27, Everage loss: 476.143643\n"
     ]
    },
    {
     "data": {
      "application/vnd.jupyter.widget-view+json": {
       "model_id": "e5e5319118db4acca80e60dde51189dc",
       "version_major": 2,
       "version_minor": 0
      },
      "text/plain": [
       "  0%|          | 0/40 [00:00<?, ?it/s]"
      ]
     },
     "metadata": {},
     "output_type": "display_data"
    },
    {
     "name": "stdout",
     "output_type": "stream",
     "text": [
      "Epoch 28, Everage loss: 471.106731\n"
     ]
    },
    {
     "data": {
      "application/vnd.jupyter.widget-view+json": {
       "model_id": "d4eaa5f55590419a89c840a73330f0c0",
       "version_major": 2,
       "version_minor": 0
      },
      "text/plain": [
       "  0%|          | 0/40 [00:00<?, ?it/s]"
      ]
     },
     "metadata": {},
     "output_type": "display_data"
    },
    {
     "name": "stdout",
     "output_type": "stream",
     "text": [
      "Epoch 29, Everage loss: 464.455444\n"
     ]
    },
    {
     "data": {
      "application/vnd.jupyter.widget-view+json": {
       "model_id": "eccfe3fe249c49e0bf09ca8f82cee4d1",
       "version_major": 2,
       "version_minor": 0
      },
      "text/plain": [
       "  0%|          | 0/40 [00:00<?, ?it/s]"
      ]
     },
     "metadata": {},
     "output_type": "display_data"
    },
    {
     "name": "stdout",
     "output_type": "stream",
     "text": [
      "Epoch 30, Everage loss: 461.123158\n"
     ]
    },
    {
     "data": {
      "application/vnd.jupyter.widget-view+json": {
       "model_id": "f83f53008f074b23871fdf4588413142",
       "version_major": 2,
       "version_minor": 0
      },
      "text/plain": [
       "  0%|          | 0/40 [00:00<?, ?it/s]"
      ]
     },
     "metadata": {},
     "output_type": "display_data"
    },
    {
     "name": "stdout",
     "output_type": "stream",
     "text": [
      "Epoch 31, Everage loss: 448.364644\n"
     ]
    },
    {
     "data": {
      "application/vnd.jupyter.widget-view+json": {
       "model_id": "731424feb4434d3d8403aac795732da0",
       "version_major": 2,
       "version_minor": 0
      },
      "text/plain": [
       "  0%|          | 0/40 [00:00<?, ?it/s]"
      ]
     },
     "metadata": {},
     "output_type": "display_data"
    },
    {
     "name": "stdout",
     "output_type": "stream",
     "text": [
      "Epoch 32, Everage loss: 436.316289\n"
     ]
    },
    {
     "data": {
      "application/vnd.jupyter.widget-view+json": {
       "model_id": "1bc5e62c6093496ebd07ca21e63d68d0",
       "version_major": 2,
       "version_minor": 0
      },
      "text/plain": [
       "  0%|          | 0/40 [00:00<?, ?it/s]"
      ]
     },
     "metadata": {},
     "output_type": "display_data"
    },
    {
     "name": "stdout",
     "output_type": "stream",
     "text": [
      "Epoch 33, Everage loss: 435.438218\n"
     ]
    },
    {
     "data": {
      "application/vnd.jupyter.widget-view+json": {
       "model_id": "e5de7b362fd84daca12f00dbe96597ed",
       "version_major": 2,
       "version_minor": 0
      },
      "text/plain": [
       "  0%|          | 0/40 [00:00<?, ?it/s]"
      ]
     },
     "metadata": {},
     "output_type": "display_data"
    },
    {
     "name": "stdout",
     "output_type": "stream",
     "text": [
      "Epoch 34, Everage loss: 429.904635\n"
     ]
    },
    {
     "data": {
      "application/vnd.jupyter.widget-view+json": {
       "model_id": "8c1ad046ca4249e08cd3cf348e339ac2",
       "version_major": 2,
       "version_minor": 0
      },
      "text/plain": [
       "  0%|          | 0/40 [00:00<?, ?it/s]"
      ]
     },
     "metadata": {},
     "output_type": "display_data"
    },
    {
     "name": "stdout",
     "output_type": "stream",
     "text": [
      "Epoch 35, Everage loss: 430.400095\n"
     ]
    },
    {
     "data": {
      "application/vnd.jupyter.widget-view+json": {
       "model_id": "fbb843007c0e4257b8e1b55a3c862929",
       "version_major": 2,
       "version_minor": 0
      },
      "text/plain": [
       "  0%|          | 0/40 [00:00<?, ?it/s]"
      ]
     },
     "metadata": {},
     "output_type": "display_data"
    },
    {
     "name": "stdout",
     "output_type": "stream",
     "text": [
      "Epoch 36, Everage loss: 426.520251\n"
     ]
    },
    {
     "data": {
      "application/vnd.jupyter.widget-view+json": {
       "model_id": "8cfdc555068e441cb6bef52f98e7a861",
       "version_major": 2,
       "version_minor": 0
      },
      "text/plain": [
       "  0%|          | 0/40 [00:00<?, ?it/s]"
      ]
     },
     "metadata": {},
     "output_type": "display_data"
    },
    {
     "name": "stdout",
     "output_type": "stream",
     "text": [
      "Epoch 37, Everage loss: 420.272352\n"
     ]
    },
    {
     "data": {
      "application/vnd.jupyter.widget-view+json": {
       "model_id": "e5073075ef424372a5f6378b2d10b569",
       "version_major": 2,
       "version_minor": 0
      },
      "text/plain": [
       "  0%|          | 0/40 [00:00<?, ?it/s]"
      ]
     },
     "metadata": {},
     "output_type": "display_data"
    },
    {
     "name": "stdout",
     "output_type": "stream",
     "text": [
      "Epoch 38, Everage loss: 421.115939\n"
     ]
    },
    {
     "data": {
      "application/vnd.jupyter.widget-view+json": {
       "model_id": "f9bce5d682e74c6990eb9648b5c49146",
       "version_major": 2,
       "version_minor": 0
      },
      "text/plain": [
       "  0%|          | 0/40 [00:00<?, ?it/s]"
      ]
     },
     "metadata": {},
     "output_type": "display_data"
    },
    {
     "name": "stdout",
     "output_type": "stream",
     "text": [
      "Epoch 39, Everage loss: 415.972266\n"
     ]
    },
    {
     "data": {
      "application/vnd.jupyter.widget-view+json": {
       "model_id": "4abd7c9ea9b8485dba6ce87a0cdbf94c",
       "version_major": 2,
       "version_minor": 0
      },
      "text/plain": [
       "  0%|          | 0/40 [00:00<?, ?it/s]"
      ]
     },
     "metadata": {},
     "output_type": "display_data"
    },
    {
     "name": "stdout",
     "output_type": "stream",
     "text": [
      "Epoch 40, Everage loss: 410.560413\n"
     ]
    },
    {
     "data": {
      "application/vnd.jupyter.widget-view+json": {
       "model_id": "a8ac8330060a42dd9191a00ee464b4e7",
       "version_major": 2,
       "version_minor": 0
      },
      "text/plain": [
       "  0%|          | 0/40 [00:00<?, ?it/s]"
      ]
     },
     "metadata": {},
     "output_type": "display_data"
    },
    {
     "name": "stdout",
     "output_type": "stream",
     "text": [
      "Epoch 41, Everage loss: 404.924677\n"
     ]
    },
    {
     "data": {
      "application/vnd.jupyter.widget-view+json": {
       "model_id": "8be985ee0c1e4ef79fda9d8b03ee95bc",
       "version_major": 2,
       "version_minor": 0
      },
      "text/plain": [
       "  0%|          | 0/40 [00:00<?, ?it/s]"
      ]
     },
     "metadata": {},
     "output_type": "display_data"
    },
    {
     "name": "stdout",
     "output_type": "stream",
     "text": [
      "Epoch 42, Everage loss: 398.910693\n"
     ]
    },
    {
     "data": {
      "application/vnd.jupyter.widget-view+json": {
       "model_id": "48a0e6a63b954417af8947b805ec9eab",
       "version_major": 2,
       "version_minor": 0
      },
      "text/plain": [
       "  0%|          | 0/40 [00:00<?, ?it/s]"
      ]
     },
     "metadata": {},
     "output_type": "display_data"
    },
    {
     "name": "stdout",
     "output_type": "stream",
     "text": [
      "Epoch 43, Everage loss: 395.637632\n"
     ]
    },
    {
     "data": {
      "application/vnd.jupyter.widget-view+json": {
       "model_id": "017ade01b04146a89c78e6a839355f96",
       "version_major": 2,
       "version_minor": 0
      },
      "text/plain": [
       "  0%|          | 0/40 [00:00<?, ?it/s]"
      ]
     },
     "metadata": {},
     "output_type": "display_data"
    },
    {
     "name": "stdout",
     "output_type": "stream",
     "text": [
      "Epoch 44, Everage loss: 398.265720\n"
     ]
    },
    {
     "data": {
      "application/vnd.jupyter.widget-view+json": {
       "model_id": "10679ae5dc0f4c52b6788a9c2799e4ce",
       "version_major": 2,
       "version_minor": 0
      },
      "text/plain": [
       "  0%|          | 0/40 [00:00<?, ?it/s]"
      ]
     },
     "metadata": {},
     "output_type": "display_data"
    },
    {
     "name": "stdout",
     "output_type": "stream",
     "text": [
      "Epoch 45, Everage loss: 393.102407\n"
     ]
    },
    {
     "data": {
      "application/vnd.jupyter.widget-view+json": {
       "model_id": "7dc47dce19b84df59364f1d8222769b1",
       "version_major": 2,
       "version_minor": 0
      },
      "text/plain": [
       "  0%|          | 0/40 [00:00<?, ?it/s]"
      ]
     },
     "metadata": {},
     "output_type": "display_data"
    },
    {
     "name": "stdout",
     "output_type": "stream",
     "text": [
      "Epoch 46, Everage loss: 391.155583\n"
     ]
    },
    {
     "data": {
      "application/vnd.jupyter.widget-view+json": {
       "model_id": "bb2c74ef309e4f4a99caf8b973ff3743",
       "version_major": 2,
       "version_minor": 0
      },
      "text/plain": [
       "  0%|          | 0/40 [00:00<?, ?it/s]"
      ]
     },
     "metadata": {},
     "output_type": "display_data"
    },
    {
     "name": "stdout",
     "output_type": "stream",
     "text": [
      "Epoch 47, Everage loss: 390.441767\n"
     ]
    },
    {
     "data": {
      "application/vnd.jupyter.widget-view+json": {
       "model_id": "1e19edeb1f1143e598e77f774920c13f",
       "version_major": 2,
       "version_minor": 0
      },
      "text/plain": [
       "  0%|          | 0/40 [00:00<?, ?it/s]"
      ]
     },
     "metadata": {},
     "output_type": "display_data"
    },
    {
     "name": "stdout",
     "output_type": "stream",
     "text": [
      "Epoch 48, Everage loss: 392.718530\n"
     ]
    },
    {
     "data": {
      "application/vnd.jupyter.widget-view+json": {
       "model_id": "db06d4e2a4fa41b493ed224f68717fea",
       "version_major": 2,
       "version_minor": 0
      },
      "text/plain": [
       "  0%|          | 0/40 [00:00<?, ?it/s]"
      ]
     },
     "metadata": {},
     "output_type": "display_data"
    },
    {
     "name": "stdout",
     "output_type": "stream",
     "text": [
      "Epoch 49, Everage loss: 389.480738\n"
     ]
    },
    {
     "data": {
      "application/vnd.jupyter.widget-view+json": {
       "model_id": "fbdd90339ecd4ac2969266562ffbac56",
       "version_major": 2,
       "version_minor": 0
      },
      "text/plain": [
       "  0%|          | 0/40 [00:00<?, ?it/s]"
      ]
     },
     "metadata": {},
     "output_type": "display_data"
    },
    {
     "name": "stdout",
     "output_type": "stream",
     "text": [
      "Epoch 50, Everage loss: 386.763943\n"
     ]
    },
    {
     "data": {
      "application/vnd.jupyter.widget-view+json": {
       "model_id": "ced66b157d2e4a26a00db911a9acde88",
       "version_major": 2,
       "version_minor": 0
      },
      "text/plain": [
       "  0%|          | 0/40 [00:00<?, ?it/s]"
      ]
     },
     "metadata": {},
     "output_type": "display_data"
    },
    {
     "name": "stdout",
     "output_type": "stream",
     "text": [
      "Epoch 51, Everage loss: 380.779218\n"
     ]
    },
    {
     "data": {
      "application/vnd.jupyter.widget-view+json": {
       "model_id": "5cecc08e338248a181be60089127118a",
       "version_major": 2,
       "version_minor": 0
      },
      "text/plain": [
       "  0%|          | 0/40 [00:00<?, ?it/s]"
      ]
     },
     "metadata": {},
     "output_type": "display_data"
    },
    {
     "name": "stdout",
     "output_type": "stream",
     "text": [
      "Epoch 52, Everage loss: 382.989502\n"
     ]
    },
    {
     "data": {
      "application/vnd.jupyter.widget-view+json": {
       "model_id": "0ae06c7a9499431f82055498bd0710b3",
       "version_major": 2,
       "version_minor": 0
      },
      "text/plain": [
       "  0%|          | 0/40 [00:00<?, ?it/s]"
      ]
     },
     "metadata": {},
     "output_type": "display_data"
    },
    {
     "name": "stdout",
     "output_type": "stream",
     "text": [
      "Epoch 53, Everage loss: 376.793432\n"
     ]
    },
    {
     "data": {
      "application/vnd.jupyter.widget-view+json": {
       "model_id": "43e147dbb251410cbcb6fc15e9f08617",
       "version_major": 2,
       "version_minor": 0
      },
      "text/plain": [
       "  0%|          | 0/40 [00:00<?, ?it/s]"
      ]
     },
     "metadata": {},
     "output_type": "display_data"
    },
    {
     "name": "stdout",
     "output_type": "stream",
     "text": [
      "Epoch 54, Everage loss: 377.607583\n"
     ]
    },
    {
     "data": {
      "application/vnd.jupyter.widget-view+json": {
       "model_id": "2548b7bd70044fcbad2103ff08c95a29",
       "version_major": 2,
       "version_minor": 0
      },
      "text/plain": [
       "  0%|          | 0/40 [00:00<?, ?it/s]"
      ]
     },
     "metadata": {},
     "output_type": "display_data"
    },
    {
     "name": "stdout",
     "output_type": "stream",
     "text": [
      "Epoch 55, Everage loss: 377.294623\n"
     ]
    },
    {
     "data": {
      "application/vnd.jupyter.widget-view+json": {
       "model_id": "f08fc91ee2e24885b41a512b50bc2e1e",
       "version_major": 2,
       "version_minor": 0
      },
      "text/plain": [
       "  0%|          | 0/40 [00:00<?, ?it/s]"
      ]
     },
     "metadata": {},
     "output_type": "display_data"
    },
    {
     "name": "stdout",
     "output_type": "stream",
     "text": [
      "Epoch 56, Everage loss: 367.098972\n"
     ]
    },
    {
     "data": {
      "application/vnd.jupyter.widget-view+json": {
       "model_id": "992d9448ed184f49ab6657bf80b2ac19",
       "version_major": 2,
       "version_minor": 0
      },
      "text/plain": [
       "  0%|          | 0/40 [00:00<?, ?it/s]"
      ]
     },
     "metadata": {},
     "output_type": "display_data"
    },
    {
     "name": "stdout",
     "output_type": "stream",
     "text": [
      "Epoch 57, Everage loss: 364.602007\n"
     ]
    },
    {
     "data": {
      "application/vnd.jupyter.widget-view+json": {
       "model_id": "e01e2857f72e4e01a55decfb415d409e",
       "version_major": 2,
       "version_minor": 0
      },
      "text/plain": [
       "  0%|          | 0/40 [00:00<?, ?it/s]"
      ]
     },
     "metadata": {},
     "output_type": "display_data"
    },
    {
     "name": "stdout",
     "output_type": "stream",
     "text": [
      "Epoch 58, Everage loss: 365.153838\n"
     ]
    },
    {
     "data": {
      "application/vnd.jupyter.widget-view+json": {
       "model_id": "421791e237ab4040bb1706800c437ae4",
       "version_major": 2,
       "version_minor": 0
      },
      "text/plain": [
       "  0%|          | 0/40 [00:00<?, ?it/s]"
      ]
     },
     "metadata": {},
     "output_type": "display_data"
    },
    {
     "name": "stdout",
     "output_type": "stream",
     "text": [
      "Epoch 59, Everage loss: 360.094879\n"
     ]
    },
    {
     "data": {
      "application/vnd.jupyter.widget-view+json": {
       "model_id": "a5c129502742423cb847d914511a3400",
       "version_major": 2,
       "version_minor": 0
      },
      "text/plain": [
       "  0%|          | 0/40 [00:00<?, ?it/s]"
      ]
     },
     "metadata": {},
     "output_type": "display_data"
    },
    {
     "name": "stdout",
     "output_type": "stream",
     "text": [
      "Epoch 60, Everage loss: 358.032349\n"
     ]
    },
    {
     "data": {
      "application/vnd.jupyter.widget-view+json": {
       "model_id": "22536a408a1a46ecbb095106be835cb5",
       "version_major": 2,
       "version_minor": 0
      },
      "text/plain": [
       "  0%|          | 0/40 [00:00<?, ?it/s]"
      ]
     },
     "metadata": {},
     "output_type": "display_data"
    },
    {
     "name": "stdout",
     "output_type": "stream",
     "text": [
      "Epoch 61, Everage loss: 353.222960\n"
     ]
    },
    {
     "data": {
      "application/vnd.jupyter.widget-view+json": {
       "model_id": "3610e4776cee4bfaa782353104c86fdb",
       "version_major": 2,
       "version_minor": 0
      },
      "text/plain": [
       "  0%|          | 0/40 [00:00<?, ?it/s]"
      ]
     },
     "metadata": {},
     "output_type": "display_data"
    },
    {
     "name": "stdout",
     "output_type": "stream",
     "text": [
      "Epoch 62, Everage loss: 350.399694\n"
     ]
    },
    {
     "data": {
      "application/vnd.jupyter.widget-view+json": {
       "model_id": "c967dec542e847f3ad447a7208c56f84",
       "version_major": 2,
       "version_minor": 0
      },
      "text/plain": [
       "  0%|          | 0/40 [00:00<?, ?it/s]"
      ]
     },
     "metadata": {},
     "output_type": "display_data"
    },
    {
     "name": "stdout",
     "output_type": "stream",
     "text": [
      "Epoch 63, Everage loss: 347.170770\n"
     ]
    },
    {
     "data": {
      "application/vnd.jupyter.widget-view+json": {
       "model_id": "3d23343543cf4bc6b7eeddb4a0948605",
       "version_major": 2,
       "version_minor": 0
      },
      "text/plain": [
       "  0%|          | 0/40 [00:00<?, ?it/s]"
      ]
     },
     "metadata": {},
     "output_type": "display_data"
    },
    {
     "name": "stdout",
     "output_type": "stream",
     "text": [
      "Epoch 64, Everage loss: 351.172279\n"
     ]
    },
    {
     "data": {
      "application/vnd.jupyter.widget-view+json": {
       "model_id": "816bfe0944bc4c96b09cd1cf5f1b675c",
       "version_major": 2,
       "version_minor": 0
      },
      "text/plain": [
       "  0%|          | 0/40 [00:00<?, ?it/s]"
      ]
     },
     "metadata": {},
     "output_type": "display_data"
    },
    {
     "name": "stdout",
     "output_type": "stream",
     "text": [
      "Epoch 65, Everage loss: 349.253876\n"
     ]
    },
    {
     "data": {
      "application/vnd.jupyter.widget-view+json": {
       "model_id": "6ff19324553e4f5381ab1f1e83a7404b",
       "version_major": 2,
       "version_minor": 0
      },
      "text/plain": [
       "  0%|          | 0/40 [00:00<?, ?it/s]"
      ]
     },
     "metadata": {},
     "output_type": "display_data"
    },
    {
     "name": "stdout",
     "output_type": "stream",
     "text": [
      "Epoch 66, Everage loss: 343.363026\n"
     ]
    },
    {
     "data": {
      "application/vnd.jupyter.widget-view+json": {
       "model_id": "ce842f7c1795474bbaed836a156c965a",
       "version_major": 2,
       "version_minor": 0
      },
      "text/plain": [
       "  0%|          | 0/40 [00:00<?, ?it/s]"
      ]
     },
     "metadata": {},
     "output_type": "display_data"
    },
    {
     "name": "stdout",
     "output_type": "stream",
     "text": [
      "Epoch 67, Everage loss: 343.513106\n"
     ]
    },
    {
     "data": {
      "application/vnd.jupyter.widget-view+json": {
       "model_id": "0699dc5119a741c692e1d4eaa2a3d0ea",
       "version_major": 2,
       "version_minor": 0
      },
      "text/plain": [
       "  0%|          | 0/40 [00:00<?, ?it/s]"
      ]
     },
     "metadata": {},
     "output_type": "display_data"
    },
    {
     "name": "stdout",
     "output_type": "stream",
     "text": [
      "Epoch 68, Everage loss: 337.994416\n"
     ]
    },
    {
     "data": {
      "application/vnd.jupyter.widget-view+json": {
       "model_id": "c50a12e33dc0477f89872815d9c20389",
       "version_major": 2,
       "version_minor": 0
      },
      "text/plain": [
       "  0%|          | 0/40 [00:00<?, ?it/s]"
      ]
     },
     "metadata": {},
     "output_type": "display_data"
    },
    {
     "name": "stdout",
     "output_type": "stream",
     "text": [
      "Epoch 69, Everage loss: 337.245256\n"
     ]
    },
    {
     "data": {
      "application/vnd.jupyter.widget-view+json": {
       "model_id": "e7e6251ae2474b298ebd6830def2ee96",
       "version_major": 2,
       "version_minor": 0
      },
      "text/plain": [
       "  0%|          | 0/40 [00:00<?, ?it/s]"
      ]
     },
     "metadata": {},
     "output_type": "display_data"
    },
    {
     "name": "stdout",
     "output_type": "stream",
     "text": [
      "Epoch 70, Everage loss: 333.332690\n"
     ]
    },
    {
     "data": {
      "application/vnd.jupyter.widget-view+json": {
       "model_id": "2d0b97a92be34387b0e0c4d07b2dd45f",
       "version_major": 2,
       "version_minor": 0
      },
      "text/plain": [
       "  0%|          | 0/40 [00:00<?, ?it/s]"
      ]
     },
     "metadata": {},
     "output_type": "display_data"
    },
    {
     "name": "stdout",
     "output_type": "stream",
     "text": [
      "Epoch 71, Everage loss: 336.520000\n"
     ]
    },
    {
     "data": {
      "application/vnd.jupyter.widget-view+json": {
       "model_id": "80f7fb46c9d942a8adbea1929264cba3",
       "version_major": 2,
       "version_minor": 0
      },
      "text/plain": [
       "  0%|          | 0/40 [00:00<?, ?it/s]"
      ]
     },
     "metadata": {},
     "output_type": "display_data"
    },
    {
     "name": "stdout",
     "output_type": "stream",
     "text": [
      "Epoch 72, Everage loss: 338.372387\n"
     ]
    },
    {
     "data": {
      "application/vnd.jupyter.widget-view+json": {
       "model_id": "1f6da08a044b4c549b714092f87dcd0f",
       "version_major": 2,
       "version_minor": 0
      },
      "text/plain": [
       "  0%|          | 0/40 [00:00<?, ?it/s]"
      ]
     },
     "metadata": {},
     "output_type": "display_data"
    },
    {
     "name": "stdout",
     "output_type": "stream",
     "text": [
      "Epoch 73, Everage loss: 332.075359\n"
     ]
    },
    {
     "data": {
      "application/vnd.jupyter.widget-view+json": {
       "model_id": "35123f6993ec4a06837963b687a9f238",
       "version_major": 2,
       "version_minor": 0
      },
      "text/plain": [
       "  0%|          | 0/40 [00:00<?, ?it/s]"
      ]
     },
     "metadata": {},
     "output_type": "display_data"
    },
    {
     "name": "stdout",
     "output_type": "stream",
     "text": [
      "Epoch 74, Everage loss: 327.698735\n"
     ]
    },
    {
     "data": {
      "application/vnd.jupyter.widget-view+json": {
       "model_id": "c34861864a6443bc931dacff1e105bce",
       "version_major": 2,
       "version_minor": 0
      },
      "text/plain": [
       "  0%|          | 0/40 [00:00<?, ?it/s]"
      ]
     },
     "metadata": {},
     "output_type": "display_data"
    },
    {
     "name": "stdout",
     "output_type": "stream",
     "text": [
      "Epoch 75, Everage loss: 324.971382\n"
     ]
    },
    {
     "data": {
      "application/vnd.jupyter.widget-view+json": {
       "model_id": "edcf71dc61684fc1a92394cf782f0cb3",
       "version_major": 2,
       "version_minor": 0
      },
      "text/plain": [
       "  0%|          | 0/40 [00:00<?, ?it/s]"
      ]
     },
     "metadata": {},
     "output_type": "display_data"
    },
    {
     "name": "stdout",
     "output_type": "stream",
     "text": [
      "Epoch 76, Everage loss: 322.251229\n"
     ]
    },
    {
     "data": {
      "application/vnd.jupyter.widget-view+json": {
       "model_id": "708b03667bac4cf694e57c8fe600b84c",
       "version_major": 2,
       "version_minor": 0
      },
      "text/plain": [
       "  0%|          | 0/40 [00:00<?, ?it/s]"
      ]
     },
     "metadata": {},
     "output_type": "display_data"
    },
    {
     "name": "stdout",
     "output_type": "stream",
     "text": [
      "Epoch 77, Everage loss: 322.653949\n"
     ]
    },
    {
     "data": {
      "application/vnd.jupyter.widget-view+json": {
       "model_id": "bfaf60af572d43d3b06195db7fd30b03",
       "version_major": 2,
       "version_minor": 0
      },
      "text/plain": [
       "  0%|          | 0/40 [00:00<?, ?it/s]"
      ]
     },
     "metadata": {},
     "output_type": "display_data"
    },
    {
     "name": "stdout",
     "output_type": "stream",
     "text": [
      "Epoch 78, Everage loss: 327.710662\n"
     ]
    },
    {
     "data": {
      "application/vnd.jupyter.widget-view+json": {
       "model_id": "1975a00cab504638b70b01246c001890",
       "version_major": 2,
       "version_minor": 0
      },
      "text/plain": [
       "  0%|          | 0/40 [00:00<?, ?it/s]"
      ]
     },
     "metadata": {},
     "output_type": "display_data"
    },
    {
     "name": "stdout",
     "output_type": "stream",
     "text": [
      "Epoch 79, Everage loss: 321.248243\n"
     ]
    },
    {
     "data": {
      "application/vnd.jupyter.widget-view+json": {
       "model_id": "991f1a7a75c04c3e8bd99eb7cb7ab197",
       "version_major": 2,
       "version_minor": 0
      },
      "text/plain": [
       "  0%|          | 0/40 [00:00<?, ?it/s]"
      ]
     },
     "metadata": {},
     "output_type": "display_data"
    },
    {
     "name": "stdout",
     "output_type": "stream",
     "text": [
      "Epoch 80, Everage loss: 322.051705\n"
     ]
    },
    {
     "data": {
      "application/vnd.jupyter.widget-view+json": {
       "model_id": "1cf5b2afeac04134af5cbb312b16d130",
       "version_major": 2,
       "version_minor": 0
      },
      "text/plain": [
       "  0%|          | 0/40 [00:00<?, ?it/s]"
      ]
     },
     "metadata": {},
     "output_type": "display_data"
    },
    {
     "name": "stdout",
     "output_type": "stream",
     "text": [
      "Epoch 81, Everage loss: 317.892022\n"
     ]
    },
    {
     "data": {
      "application/vnd.jupyter.widget-view+json": {
       "model_id": "d7503f985f1244189bdf022840767831",
       "version_major": 2,
       "version_minor": 0
      },
      "text/plain": [
       "  0%|          | 0/40 [00:00<?, ?it/s]"
      ]
     },
     "metadata": {},
     "output_type": "display_data"
    },
    {
     "name": "stdout",
     "output_type": "stream",
     "text": [
      "Epoch 82, Everage loss: 319.819719\n"
     ]
    },
    {
     "data": {
      "application/vnd.jupyter.widget-view+json": {
       "model_id": "336bd522bf9a4fcdb82400c154dc8a58",
       "version_major": 2,
       "version_minor": 0
      },
      "text/plain": [
       "  0%|          | 0/40 [00:00<?, ?it/s]"
      ]
     },
     "metadata": {},
     "output_type": "display_data"
    },
    {
     "name": "stdout",
     "output_type": "stream",
     "text": [
      "Epoch 83, Everage loss: 325.937135\n"
     ]
    },
    {
     "data": {
      "application/vnd.jupyter.widget-view+json": {
       "model_id": "5c97280b5fe541268233a9f1ca52fc42",
       "version_major": 2,
       "version_minor": 0
      },
      "text/plain": [
       "  0%|          | 0/40 [00:00<?, ?it/s]"
      ]
     },
     "metadata": {},
     "output_type": "display_data"
    },
    {
     "name": "stdout",
     "output_type": "stream",
     "text": [
      "Epoch 84, Everage loss: 320.253954\n"
     ]
    },
    {
     "data": {
      "application/vnd.jupyter.widget-view+json": {
       "model_id": "19d1d1cb4551452a9d20832c3b6e264c",
       "version_major": 2,
       "version_minor": 0
      },
      "text/plain": [
       "  0%|          | 0/40 [00:00<?, ?it/s]"
      ]
     },
     "metadata": {},
     "output_type": "display_data"
    },
    {
     "name": "stdout",
     "output_type": "stream",
     "text": [
      "Epoch 85, Everage loss: 318.795460\n"
     ]
    },
    {
     "data": {
      "application/vnd.jupyter.widget-view+json": {
       "model_id": "3fc79752d6b646389f0063ed5c10e1ad",
       "version_major": 2,
       "version_minor": 0
      },
      "text/plain": [
       "  0%|          | 0/40 [00:00<?, ?it/s]"
      ]
     },
     "metadata": {},
     "output_type": "display_data"
    },
    {
     "name": "stdout",
     "output_type": "stream",
     "text": [
      "Epoch 86, Everage loss: 315.449374\n"
     ]
    },
    {
     "data": {
      "application/vnd.jupyter.widget-view+json": {
       "model_id": "65796680ae2b47128736a6cfe189f2a8",
       "version_major": 2,
       "version_minor": 0
      },
      "text/plain": [
       "  0%|          | 0/40 [00:00<?, ?it/s]"
      ]
     },
     "metadata": {},
     "output_type": "display_data"
    },
    {
     "name": "stdout",
     "output_type": "stream",
     "text": [
      "Epoch 87, Everage loss: 314.000607\n"
     ]
    },
    {
     "data": {
      "application/vnd.jupyter.widget-view+json": {
       "model_id": "5f7469d2b261467a80ec10e5734dd27a",
       "version_major": 2,
       "version_minor": 0
      },
      "text/plain": [
       "  0%|          | 0/40 [00:00<?, ?it/s]"
      ]
     },
     "metadata": {},
     "output_type": "display_data"
    },
    {
     "name": "stdout",
     "output_type": "stream",
     "text": [
      "Epoch 88, Everage loss: 319.906984\n"
     ]
    },
    {
     "data": {
      "application/vnd.jupyter.widget-view+json": {
       "model_id": "694a2ee002264026a4f12aa5c71a52fc",
       "version_major": 2,
       "version_minor": 0
      },
      "text/plain": [
       "  0%|          | 0/40 [00:00<?, ?it/s]"
      ]
     },
     "metadata": {},
     "output_type": "display_data"
    },
    {
     "name": "stdout",
     "output_type": "stream",
     "text": [
      "Epoch 89, Everage loss: 318.622578\n"
     ]
    },
    {
     "data": {
      "application/vnd.jupyter.widget-view+json": {
       "model_id": "58ca4c59bd4349d2a9c9084b86ffccaa",
       "version_major": 2,
       "version_minor": 0
      },
      "text/plain": [
       "  0%|          | 0/40 [00:00<?, ?it/s]"
      ]
     },
     "metadata": {},
     "output_type": "display_data"
    },
    {
     "name": "stdout",
     "output_type": "stream",
     "text": [
      "Epoch 90, Everage loss: 313.894505\n"
     ]
    },
    {
     "data": {
      "application/vnd.jupyter.widget-view+json": {
       "model_id": "c236870f5b9b43c780c2ed4df6378c4b",
       "version_major": 2,
       "version_minor": 0
      },
      "text/plain": [
       "  0%|          | 0/40 [00:00<?, ?it/s]"
      ]
     },
     "metadata": {},
     "output_type": "display_data"
    },
    {
     "name": "stdout",
     "output_type": "stream",
     "text": [
      "Epoch 91, Everage loss: 315.236480\n"
     ]
    },
    {
     "data": {
      "application/vnd.jupyter.widget-view+json": {
       "model_id": "c5e9bea2bf1f4a038856157836d753db",
       "version_major": 2,
       "version_minor": 0
      },
      "text/plain": [
       "  0%|          | 0/40 [00:00<?, ?it/s]"
      ]
     },
     "metadata": {},
     "output_type": "display_data"
    },
    {
     "name": "stdout",
     "output_type": "stream",
     "text": [
      "Epoch 92, Everage loss: 311.342702\n"
     ]
    },
    {
     "data": {
      "application/vnd.jupyter.widget-view+json": {
       "model_id": "5ac80625cbd8428d82b27ba0100291b5",
       "version_major": 2,
       "version_minor": 0
      },
      "text/plain": [
       "  0%|          | 0/40 [00:00<?, ?it/s]"
      ]
     },
     "metadata": {},
     "output_type": "display_data"
    },
    {
     "name": "stdout",
     "output_type": "stream",
     "text": [
      "Epoch 93, Everage loss: 313.335304\n"
     ]
    },
    {
     "data": {
      "application/vnd.jupyter.widget-view+json": {
       "model_id": "ee4cf428d71042c4a21f469e3271f2a4",
       "version_major": 2,
       "version_minor": 0
      },
      "text/plain": [
       "  0%|          | 0/40 [00:00<?, ?it/s]"
      ]
     },
     "metadata": {},
     "output_type": "display_data"
    },
    {
     "name": "stdout",
     "output_type": "stream",
     "text": [
      "Epoch 94, Everage loss: 311.596435\n"
     ]
    },
    {
     "data": {
      "application/vnd.jupyter.widget-view+json": {
       "model_id": "084b80a5a3264e6994082a1a2afd2fe7",
       "version_major": 2,
       "version_minor": 0
      },
      "text/plain": [
       "  0%|          | 0/40 [00:00<?, ?it/s]"
      ]
     },
     "metadata": {},
     "output_type": "display_data"
    },
    {
     "name": "stdout",
     "output_type": "stream",
     "text": [
      "Epoch 95, Everage loss: 311.559351\n"
     ]
    },
    {
     "data": {
      "application/vnd.jupyter.widget-view+json": {
       "model_id": "3d997b1517eb4e75a6918631378c2b07",
       "version_major": 2,
       "version_minor": 0
      },
      "text/plain": [
       "  0%|          | 0/40 [00:00<?, ?it/s]"
      ]
     },
     "metadata": {},
     "output_type": "display_data"
    },
    {
     "name": "stdout",
     "output_type": "stream",
     "text": [
      "Epoch 96, Everage loss: 308.483722\n"
     ]
    },
    {
     "data": {
      "application/vnd.jupyter.widget-view+json": {
       "model_id": "450f6e2661d943b4991cf92bc8c86493",
       "version_major": 2,
       "version_minor": 0
      },
      "text/plain": [
       "  0%|          | 0/40 [00:00<?, ?it/s]"
      ]
     },
     "metadata": {},
     "output_type": "display_data"
    },
    {
     "name": "stdout",
     "output_type": "stream",
     "text": [
      "Epoch 97, Everage loss: 308.123810\n"
     ]
    },
    {
     "data": {
      "application/vnd.jupyter.widget-view+json": {
       "model_id": "7399b79e2d3c4c84be1ec9e5e62aff8a",
       "version_major": 2,
       "version_minor": 0
      },
      "text/plain": [
       "  0%|          | 0/40 [00:00<?, ?it/s]"
      ]
     },
     "metadata": {},
     "output_type": "display_data"
    },
    {
     "name": "stdout",
     "output_type": "stream",
     "text": [
      "Epoch 98, Everage loss: 310.995131\n"
     ]
    },
    {
     "data": {
      "application/vnd.jupyter.widget-view+json": {
       "model_id": "4c5a9c7227284ae0a659333c40707bdb",
       "version_major": 2,
       "version_minor": 0
      },
      "text/plain": [
       "  0%|          | 0/40 [00:00<?, ?it/s]"
      ]
     },
     "metadata": {},
     "output_type": "display_data"
    },
    {
     "name": "stdout",
     "output_type": "stream",
     "text": [
      "Epoch 99, Everage loss: 308.372231\n"
     ]
    }
   ],
   "source": [
    "import torch\n",
    "from torch.utils.data import DataLoader\n",
    "from torch import optim\n",
    "from PIL import Image\n",
    "from torchvision import transforms\n",
    "from parts.VAE_CNN import VAE, vae_loss_function, CustomImageDataset\n",
    "from parts.MDN_RNN import MDN_RNN, mdn_rnn_loss\n",
    "from parts.controller import controller\n",
    "from tqdm.notebook import tqdm\n",
    "\n",
    "observations = torch.tensor(observations_raw).permute(0, 3, 1, 2)\n",
    "vae = VAE(input_channel=3, latent_dim=1024).to('cuda:0')\n",
    "\n",
    "resize = transforms.Compose([\n",
    "    transforms.ToPILImage(),\n",
    "    transforms.Resize((64, 64)),\n",
    "    transforms.ToTensor()]) \n",
    "\n",
    "observations = CustomImageDataset(data=observations, transform=resize)\n",
    "\n",
    "dataloader = DataLoader(dataset=observations, batch_size=512)\n",
    "\n",
    "optimizer = optim.AdamW(vae.parameters(), lr=1e-4)\n",
    "\n",
    "def vae_train(vae, optimizer, dataloader, epochs=10):\n",
    "    vae.train()\n",
    "\n",
    "    for epoch in range(epochs):\n",
    "        total_loss = 0\n",
    "        for batch_idx, data in enumerate(tqdm(dataloader)):\n",
    "            data = data.to('cuda:0')\n",
    "            _, recon_image, mu, logvar = vae(data)\n",
    "\n",
    "            loss = vae_loss_function(recon_image, data, mu, logvar, beta=0.01)\n",
    "            \n",
    "            optimizer.zero_grad()\n",
    "            loss.backward()\n",
    "            torch.nn.utils.clip_grad_norm_(vae.parameters(), max_norm=1.0)\n",
    "            optimizer.step()\n",
    "\n",
    "            total_loss += loss.item()\n",
    "        \n",
    "        print(f'Epoch {epoch}, Everage loss: {total_loss/len(dataloader):.6f}')\n",
    "\n",
    "vae_train(vae, optimizer, dataloader, epochs=100)\n"
   ]
  },
  {
   "cell_type": "code",
   "execution_count": 4,
   "id": "9365bc20",
   "metadata": {},
   "outputs": [],
   "source": [
    "torch.save(vae.state_dict(), 'vae-latent1024-epoch100.pth')"
   ]
  },
  {
   "cell_type": "code",
   "execution_count": 5,
   "id": "5e6442fe",
   "metadata": {},
   "outputs": [
    {
     "data": {
      "image/jpeg": "[encoded data removed]",
      "image/png": "[encoded data removed]",
      "text/plain": [
       "<PIL.Image.Image image mode=RGB size=64x64>"
      ]
     },
     "execution_count": 5,
     "metadata": {},
     "output_type": "execute_result"
    }
   ],
   "source": [
    "to_pil = transforms.ToPILImage()\n",
    "to_pil(observations[555])"
   ]
  },
  {
   "cell_type": "code",
   "execution_count": 6,
   "id": "cc17b947",
   "metadata": {},
   "outputs": [
    {
     "data": {
      "image/jpeg": "[encoded data removed]",
      "image/png": "[encoded data removed]",
      "text/plain": [
       "<PIL.Image.Image image mode=RGB size=64x64>"
      ]
     },
     "execution_count": 6,
     "metadata": {},
     "output_type": "execute_result"
    }
   ],
   "source": [
    "vae.eval()\n",
    "data = observations[555].unsqueeze(0).to(\"cuda:0\")\n",
    "hidden_state, recon_image, _, _ = vae(data)\n",
    "to_pil(recon_image[0])"
   ]
  },
  {
   "cell_type": "markdown",
   "id": "d602a484",
   "metadata": {},
   "source": [
    "# MDN_RNN train"
   ]
  },
  {
   "cell_type": "code",
   "execution_count": 2,
   "id": "cd6cd3d3",
   "metadata": {},
   "outputs": [],
   "source": [
    "import numpy as np\n",
    "data = np.load('data/LunarLander-v3.npz')\n",
    "observations_raw = data['frames']\n",
    "actions = data['actions']\n",
    "rewards = data['rewards']\n",
    "\n",
    "episodes = [0]\n",
    "for idx, done in enumerate(data['terminateds']):\n",
    "    if done == True:\n",
    "        episodes.append(idx+1)\n",
    "episodes.append(len(data['terminateds']))\n"
   ]
  },
  {
   "cell_type": "code",
   "execution_count": 3,
   "id": "ad1a449e",
   "metadata": {},
   "outputs": [
    {
     "data": {
      "text/plain": [
       "VAE(\n",
       "  (encode_cnn): Sequential(\n",
       "    (0): Conv2d(3, 32, kernel_size=(4, 4), stride=(2, 2), padding=(1, 1))\n",
       "    (1): SiLU()\n",
       "    (2): Conv2d(32, 64, kernel_size=(4, 4), stride=(2, 2), padding=(1, 1))\n",
       "    (3): SiLU()\n",
       "    (4): Conv2d(64, 128, kernel_size=(4, 4), stride=(2, 2), padding=(1, 1))\n",
       "    (5): SiLU()\n",
       "    (6): Conv2d(128, 256, kernel_size=(4, 4), stride=(2, 2), padding=(1, 1))\n",
       "    (7): SiLU()\n",
       "  )\n",
       "  (mu_linear): Linear(in_features=4096, out_features=1024, bias=True)\n",
       "  (var_linear): Linear(in_features=4096, out_features=1024, bias=True)\n",
       "  (decode_linear): Linear(in_features=1024, out_features=4096, bias=True)\n",
       "  (decode_cnn): Sequential(\n",
       "    (0): ConvTranspose2d(256, 128, kernel_size=(4, 4), stride=(2, 2), padding=(1, 1))\n",
       "    (1): SiLU()\n",
       "    (2): ConvTranspose2d(128, 64, kernel_size=(4, 4), stride=(2, 2), padding=(1, 1))\n",
       "    (3): SiLU()\n",
       "    (4): ConvTranspose2d(64, 32, kernel_size=(4, 4), stride=(2, 2), padding=(1, 1))\n",
       "    (5): SiLU()\n",
       "    (6): ConvTranspose2d(32, 3, kernel_size=(4, 4), stride=(2, 2), padding=(1, 1))\n",
       "    (7): Sigmoid()\n",
       "  )\n",
       ")"
      ]
     },
     "execution_count": 3,
     "metadata": {},
     "output_type": "execute_result"
    }
   ],
   "source": [
    "from torchvision import transforms\n",
    "import torch\n",
    "\n",
    "# observations = torch.tensor(observations_raw).permute(0, 3, 1, 2)\n",
    "observations = observations_raw # numpy array dimension order is [H, W, C] for ToPILImage()\n",
    "\n",
    "resize = transforms.Compose([\n",
    "    transforms.ToPILImage(),\n",
    "    transforms.Resize((64, 64)),\n",
    "    transforms.ToTensor()]) \n",
    "\n",
    "import torch\n",
    "from parts.VAE_CNN import VAE\n",
    "vae = VAE(input_channel=3, latent_dim=1024).to('cuda:0')\n",
    "vae.load_state_dict(torch.load('model_weights/vae_weights_latent1024.pth'))\n",
    "vae.eval()"
   ]
  },
  {
   "cell_type": "code",
   "execution_count": null,
   "id": "4895f49e",
   "metadata": {},
   "outputs": [],
   "source": [
    "import torch\n",
    "from torch.utils.data import DataLoader\n",
    "from torch import optim\n",
    "from PIL import Image\n",
    "from tqdm.notebook import tqdm\n",
    "from parts.MDN_RNN import MDN_RNN, mdn_rnn_loss, SequenceDataset\n",
    "import numpy as np\n",
    "\n",
    "action_size = int(actions.max()) + 1\n",
    "action_onehot = np.eye(action_size)[actions] # np.eye is generates identity matrix\n",
    "\n",
    "mdn_rnn = MDN_RNN(input_size=1024, hidden_size=512, latent_space_size=1024, action_size=action_size).to('cuda:0')\n",
    "\n",
    "seq_dataset = SequenceDataset(image_dataset=observations, transforms=resize, reward_dataset=rewards, action_dataset=action_onehot, episodes=episodes)\n",
    "dataloader = DataLoader(dataset=seq_dataset, batch_size=32, num_workers=12)\n",
    "\n",
    "optimizer = optim.AdamW(mdn_rnn.parameters(), lr=1e-4)\n",
    "\n",
    "def rnn_train(model=mdn_rnn, dataloader=dataloader, optimizer=optimizer, epochs=400):\n",
    "    model.train()\n",
    "    vae.eval()\n",
    "    for epoch in range(epochs):\n",
    "        total_loss = 0\n",
    "        for batch_idx, (image, action, reward, seq_length, mask) in enumerate(tqdm(dataloader, desc=f'epoch: {epoch+1}')):\n",
    "            image, action, reward, mask = image.to('cuda:0'), action.to('cuda:0'), reward.to('cuda:0'), mask.to('cuda:0')\n",
    "            with torch.no_grad():\n",
    "                # have to reshape image vector because vae(cnn) input shape is (batch_size, channel_size, height, width)\n",
    "                batch, sequence, C, H, W = image.size()\n",
    "                reshape_images = image.view(-1, C, H, W)\n",
    "                z_vectors_flatten, _, _, _ = vae(reshape_images)\n",
    "                z_vectors = z_vectors_flatten.view(batch, sequence, -1)\n",
    "                \n",
    "            mu, sigma, phi, p_reward, _, (_, _) = model(z_vectors, action, length=seq_length)\n",
    "            \n",
    "            batch, sequence, num_dist, latent_size = mu.size()\n",
    "\n",
    "            mu_pred = mu[: , :-1, :, :].reshape(-1, num_dist, latent_size)\n",
    "            sigma_pred = sigma[: , :-1, :, :].reshape(-1, num_dist, latent_size)\n",
    "            phi_pred = phi[: , :-1, :].reshape(-1, num_dist)\n",
    "            p_reward_pred = p_reward[:, :-1].reshape(-1, 1)\n",
    "\n",
    "            target_z = z_vectors[: , 1:, :].reshape(-1, latent_size)\n",
    "            target_reward = reward[:, 1:].reshape(-1, 1)\n",
    "\n",
    "            reshape_mask = mask[:, :].reshape(-1, 1)\n",
    "            \n",
    "            loss = mdn_rnn_loss(mu_pred, sigma_pred, phi_pred, target_z, p_reward_pred, target_reward, reshape_mask)\n",
    "            \n",
    "            optimizer.zero_grad()\n",
    "            loss.backward()\n",
    "            optimizer.step()\n",
    "            total_loss += loss.item()\n",
    "            if (batch_idx + 1) % 100 == 0:\n",
    "                print(f\"loss {total_loss / (batch_idx + 1)}\")\n",
    "\n",
    "        print(f\"epoch: {epoch+1}, Everage loss: {total_loss/len(dataloader):.6f}\")\n",
    "\n",
    "rnn_train()"
   ]
  },
  {
   "cell_type": "code",
   "execution_count": null,
   "id": "7e4d0288",
   "metadata": {},
   "outputs": [],
   "source": [
    "torch.save(mdn_rnn.state_dict(), 'model_weights/mdnrnn_weights_latent1024.pth')"
   ]
  },
  {
   "cell_type": "markdown",
   "id": "5f70decd",
   "metadata": {},
   "source": [
    "# RNN test"
   ]
  },
  {
   "cell_type": "code",
   "execution_count": 1,
   "id": "7bc01a5e",
   "metadata": {},
   "outputs": [],
   "source": [
    "import numpy as np\n",
    "data = np.load('data/LunarLander-v3.npz')\n",
    "observations_raw = data['frames']\n",
    "actions = data['actions']\n",
    "rewards = data['rewards']\n",
    "\n",
    "episodes = [0]\n",
    "for idx, done in enumerate(data['terminateds']):\n",
    "    if done == True:\n",
    "        episodes.append(idx+1)\n",
    "episodes.append(len(data['terminateds']))"
   ]
  },
  {
   "cell_type": "code",
   "execution_count": 2,
   "id": "d6bc3e5d",
   "metadata": {},
   "outputs": [
    {
     "data": {
      "text/plain": [
       "<All keys matched successfully>"
      ]
     },
     "execution_count": 2,
     "metadata": {},
     "output_type": "execute_result"
    }
   ],
   "source": [
    "import torch\n",
    "from parts.VAE_CNN import VAE, vae_loss_function, CustomImageDataset\n",
    "from parts.MDN_RNN import MDN_RNN, mdn_rnn_loss, sampling, SequenceDataset\n",
    "from parts.controller import controller\n",
    "\n",
    "action_size = int(actions.max()) + 1\n",
    "action_onehot = np.eye(action_size)[actions] # np.eye is generates identity matrix\n",
    "\n",
    "vae = VAE(input_channel=3, latent_dim=1024).to('cuda:0')\n",
    "mdn_rnn = MDN_RNN(input_size=1024, hidden_size=512, latent_space_size=1024, action_size=action_size).to('cuda:0')\n",
    "\n",
    "vae.load_state_dict(torch.load('model_weights/vae_weights_latent1024.pth'))\n",
    "mdn_rnn.load_state_dict(torch.load('model_weights/mdnrnn_weights_latent1024.pth'))\n"
   ]
  },
  {
   "cell_type": "code",
   "execution_count": 3,
   "id": "9db214c4",
   "metadata": {},
   "outputs": [],
   "source": [
    "from torchvision import transforms\n",
    "\n",
    "observations = observations_raw\n",
    "\n",
    "resize = transforms.Compose([\n",
    "    transforms.ToPILImage(),\n",
    "    transforms.Resize((64, 64)),\n",
    "    transforms.ToTensor()]) \n",
    "\n",
    "\n",
    "seq_dataset = SequenceDataset(image_dataset=observations, transforms=resize, reward_dataset=rewards, action_dataset=action_onehot, episodes=episodes)"
   ]
  },
  {
   "cell_type": "code",
   "execution_count": 4,
   "id": "ec62d1b3",
   "metadata": {},
   "outputs": [],
   "source": [
    "vae.eval()\n",
    "mdn_rnn.eval()\n",
    "z_vectors, _, _, _  = vae(seq_dataset[100][0].to('cuda:0'))\n",
    "z_vectors = z_vectors.unsqueeze(0)\n",
    "action_first = seq_dataset[100][1].to('cuda:0')\n",
    "action_first = action_first.unsqueeze(0)\n",
    "\n",
    "mu, sigma, phi, reward, h, cell = mdn_rnn(z_vectors, action_first)"
   ]
  },
  {
   "cell_type": "code",
   "execution_count": 5,
   "id": "d0e1558f",
   "metadata": {},
   "outputs": [
    {
     "data": {
      "image/jpeg": "[encoded data removed]",
      "image/png": "[encoded data removed]",
      "text/plain": [
       "<PIL.Image.Image image mode=RGB size=64x64>"
      ]
     },
     "execution_count": 5,
     "metadata": {},
     "output_type": "execute_result"
    }
   ],
   "source": [
    "to_pil = transforms.ToPILImage()\n",
    "to_pil(seq_dataset[100][0][88])"
   ]
  },
  {
   "cell_type": "code",
   "execution_count": 27,
   "id": "cd559760",
   "metadata": {},
   "outputs": [],
   "source": [
    "p = phi[:, 120, :]\n",
    "m = mu[:, 120, :, :]\n",
    "s = sigma[:, 120, :, :]"
   ]
  },
  {
   "cell_type": "code",
   "execution_count": 45,
   "id": "9de9795f",
   "metadata": {},
   "outputs": [
    {
     "data": {
      "image/jpeg": "[encoded data removed]",
      "image/png": "[encoded data removed]",
      "text/plain": [
       "<PIL.Image.Image image mode=RGB size=64x64>"
      ]
     },
     "execution_count": 45,
     "metadata": {},
     "output_type": "execute_result"
    }
   ],
   "source": [
    "from torch import distributions\n",
    "from torchvision import transforms\n",
    "\n",
    "mixture_distribution = distributions.Categorical(probs=p)\n",
    "component_distribution = distributions.Normal(loc=m, scale=s)\n",
    "component_dist = distributions.Independent(\n",
    "    component_distribution,\n",
    "    reinterpreted_batch_ndims=1\n",
    ")\n",
    "mixture_gaussian = distributions.MixtureSameFamily(mixture_distribution, component_dist)\n",
    "vector = mixture_gaussian.sample()\n",
    "\n",
    "to_pil = transforms.ToPILImage()\n",
    "a = vae.decode(vector)\n",
    "img = to_pil(a[0])\n",
    "img"
   ]
  },
  {
   "cell_type": "markdown",
   "id": "847c0e77",
   "metadata": {},
   "source": [
    "# Controller train"
   ]
  },
  {
   "cell_type": "code",
   "execution_count": 1,
   "id": "676540e9",
   "metadata": {},
   "outputs": [
    {
     "data": {
      "text/plain": [
       "VAE(\n",
       "  (encode_cnn): Sequential(\n",
       "    (0): Conv2d(3, 32, kernel_size=(4, 4), stride=(2, 2), padding=(1, 1))\n",
       "    (1): SiLU()\n",
       "    (2): Conv2d(32, 64, kernel_size=(4, 4), stride=(2, 2), padding=(1, 1))\n",
       "    (3): SiLU()\n",
       "    (4): Conv2d(64, 128, kernel_size=(4, 4), stride=(2, 2), padding=(1, 1))\n",
       "    (5): SiLU()\n",
       "    (6): Conv2d(128, 256, kernel_size=(4, 4), stride=(2, 2), padding=(1, 1))\n",
       "    (7): SiLU()\n",
       "  )\n",
       "  (mu_linear): Linear(in_features=4096, out_features=1024, bias=True)\n",
       "  (var_linear): Linear(in_features=4096, out_features=1024, bias=True)\n",
       "  (decode_linear): Linear(in_features=1024, out_features=4096, bias=True)\n",
       "  (decode_cnn): Sequential(\n",
       "    (0): ConvTranspose2d(256, 128, kernel_size=(4, 4), stride=(2, 2), padding=(1, 1))\n",
       "    (1): SiLU()\n",
       "    (2): ConvTranspose2d(128, 64, kernel_size=(4, 4), stride=(2, 2), padding=(1, 1))\n",
       "    (3): SiLU()\n",
       "    (4): ConvTranspose2d(64, 32, kernel_size=(4, 4), stride=(2, 2), padding=(1, 1))\n",
       "    (5): SiLU()\n",
       "    (6): ConvTranspose2d(32, 3, kernel_size=(4, 4), stride=(2, 2), padding=(1, 1))\n",
       "    (7): Sigmoid()\n",
       "  )\n",
       ")"
      ]
     },
     "execution_count": 1,
     "metadata": {},
     "output_type": "execute_result"
    }
   ],
   "source": [
    "import numpy as np\n",
    "from parts.MDN_RNN import MDN_RNN, sampling\n",
    "from parts.controller import controller, choice_control\n",
    "from parts.VAE_CNN import VAE\n",
    "import torch\n",
    "\n",
    "data = np.load('data/LunarLander-v3.npz')\n",
    "\n",
    "actions = data['actions']\n",
    "action_size = int(actions.max()) + 1\n",
    "\n",
    "images = data['frames']\n",
    "\n",
    "mdn_rnn = MDN_RNN(input_size=1024, hidden_size=512, latent_space_size=1024, action_size=action_size).to('cuda:0')\n",
    "mdn_rnn.load_state_dict(torch.load('model_weights/mdnrnn_weights_latent1024.pth'))\n",
    "\n",
    "vae = VAE(input_channel=3, latent_dim=1024).to('cuda:0')\n",
    "vae.load_state_dict(torch.load('model_weights/vae_weights_latent1024.pth'))\n",
    "vae.eval()"
   ]
  },
  {
   "cell_type": "code",
   "execution_count": 2,
   "id": "257e0028",
   "metadata": {},
   "outputs": [],
   "source": [
    "import torch \n",
    "from torchvision import transforms\n",
    "import random\n",
    "\n",
    "resize = transforms.Compose([\n",
    "        transforms.ToPILImage(),\n",
    "        transforms.Resize((64, 64)),\n",
    "        transforms.ToTensor()])\n",
    "\n",
    "def sellect_random_scene(images) :\n",
    "    _len = len(images)\n",
    "    scene_number = random.randint(0, _len-1)\n",
    "    image = images[scene_number]\n",
    "    \n",
    "    image_tensor = torch.tensor(image).permute(2, 0, 1)\n",
    "\n",
    "    resized_image = torch.tensor(resize(image_tensor)).unsqueeze(0).to('cuda:0')\n",
    "\n",
    "    with torch.no_grad():\n",
    "        z_vector, _ ,_ ,_ = vae(resized_image)\n",
    "\n",
    "    num_layers, hidden_size = mdn_rnn.lstm.num_layers, mdn_rnn.lstm.hidden_size\n",
    "\n",
    "    h_vector = torch.zeros(1, hidden_size).to('cuda:0')\n",
    "\n",
    "    h_n, c_n = torch.zeros(num_layers, 1, hidden_size).to('cuda:0'), torch.zeros(num_layers, 1, hidden_size).to('cuda:0')\n",
    "\n",
    "    return z_vector, h_vector, (h_n, c_n)\n"
   ]
  },
  {
   "cell_type": "code",
   "execution_count": null,
   "id": "8658277b",
   "metadata": {},
   "outputs": [],
   "source": [
    "from parts.MDN_RNN import MDN_RNN, sampling\n",
    "from parts.controller import controller, choice_control\n",
    "import torch\n",
    "import torch.nn.functional as F\n",
    "import matplotlib.pyplot as plt\n",
    "\n",
    "C = controller(action_size=action_size, h_vector_size=512, z_vector_size=1024, hidden_size=512).to('cuda:0')\n",
    "\n",
    "optimizer = torch.optim.AdamW(C.parameters(), lr=1e-4)\n",
    "\n",
    "gamma = 0.99\n",
    "beta = 0.01 \n",
    "\n",
    "def controller_train(steps, controller, optimizer, initial_z, initial_h, cell):\n",
    "    controller.train()\n",
    "    mdn_rnn.train()\n",
    "\n",
    "    rewards = []\n",
    "    action_probs = []\n",
    "    entropies = []\n",
    "\n",
    "    z = initial_z.to('cuda:0')\n",
    "    h = initial_h.to('cuda:0')\n",
    "\n",
    "    z_rnn = z.unsqueeze(0)\n",
    "\n",
    "    for _ in range(steps):\n",
    "        action_prob = controller(z, h)\n",
    "        action = choice_control(action_prob)\n",
    "\n",
    "        action_onehot_tensor = F.one_hot(action, num_classes=action_size).to(torch.float32)\n",
    "\n",
    "        mu, sigma, phi, reward, h, cell = mdn_rnn(z_rnn, action_onehot_tensor, cell)\n",
    "\n",
    "        z_rnn = sampling(mu, sigma, phi) \n",
    "        z = z_rnn.squeeze(0)\n",
    "\n",
    "        log_action_prob = torch.log(action_prob[0, action])\n",
    "\n",
    "        entropy = action_prob[0] * torch.log(action_prob[0])\n",
    "\n",
    "        # print(z)\n",
    "        # to_pil = transforms.ToPILImage()\n",
    "        # a = vae.decode(z)\n",
    "        # img = to_pil(a[0])\n",
    "        # plt.figure(figsize=(5, 5))\n",
    "        # plt.imshow(img)\n",
    "        # plt.axis('off')\n",
    "        # plt.show()\n",
    "        \n",
    "        \n",
    "        entropies.append(-entropy.sum())\n",
    "        action_probs.append(log_action_prob)\n",
    "        rewards.append(reward)\n",
    "        \n",
    "    # total_imagined_reward = torch.stack(rewards)\n",
    "    \n",
    "    # total_action_prob = torch.stack(action_probs)\n",
    "    # total_entoprys = torch.stack(entropys).sum()\n",
    "\n",
    "    # loss_element_wise = total_action_prob * total_imagined_reward.detach() # reinforce algorithm\n",
    "    # loss = -loss_element_wise.sum() - total_entoprys*0.1\n",
    "\n",
    "    # optimizer.zero_grad()\n",
    "    # loss.backward()\n",
    "    # optimizer.step()\n",
    "\n",
    "    # return loss.item(), total_imagined_reward.sum(), total_action_prob.sum()\n",
    "    returns = []\n",
    "    future_return = 0.0\n",
    "    for r in reversed(rewards):\n",
    "        future_return = r + gamma * future_return\n",
    "        returns.append(future_return)\n",
    "    returns.reverse()\n",
    "    returns = torch.stack(returns)\n",
    "    \n",
    "    # 보상 정규화 (학습 안정화)\n",
    "    returns = (returns - returns.mean()) / (returns.std() + 1e-8)\n",
    "\n",
    "    action_probs = torch.stack(action_probs)\n",
    "    entropies = torch.stack(entropies)\n",
    "\n",
    "    # <--- 엔트로피 보너스 구현 Step 2: 최종 손실 함수에 반영\n",
    "    policy_loss = - (action_probs * returns.detach()).mean() # 정책 손실\n",
    "    entropy_loss = - (beta * entropies.mean()) # 엔트로피 손실 (엔트로피를 최대화하기 위해 음수로 만듦)\n",
    "\n",
    "    loss = policy_loss + entropy_loss\n",
    "\n",
    "    optimizer.zero_grad()\n",
    "    loss.backward()\n",
    "    optimizer.step()\n",
    "\n",
    "    # loss.item()과 함께 실제 보상 합계, 정책 손실, 엔트로피 손실 등을 리턴하면 모니터링에 용이\n",
    "    return loss.item(), torch.stack(rewards).sum().item()"
   ]
  },
  {
   "cell_type": "code",
   "execution_count": 10,
   "id": "c5087c3b",
   "metadata": {},
   "outputs": [
    {
     "data": {
      "application/vnd.jupyter.widget-view+json": {
       "model_id": "bcb8e9b23b89417bb7b60d237919e27a",
       "version_major": 2,
       "version_minor": 0
      },
      "text/plain": [
       "  0%|          | 0/1000 [00:00<?, ?it/s]"
      ]
     },
     "metadata": {},
     "output_type": "display_data"
    },
    {
     "name": "stderr",
     "output_type": "stream",
     "text": [
      "/tmp/ipykernel_476116/49707483.py:17: UserWarning: To copy construct from a tensor, it is recommended to use sourceTensor.detach().clone() or sourceTensor.detach().clone().requires_grad_(True), rather than torch.tensor(sourceTensor).\n",
      "  resized_image = torch.tensor(resize(image_tensor)).unsqueeze(0).to('cuda:0')\n"
     ]
    },
    {
     "name": "stdout",
     "output_type": "stream",
     "text": [
      "loss:-0.06385903805494308, reward:-38.747928619384766\n",
      "loss:-0.001991577446460724, reward:-170.56605529785156\n",
      "loss:0.04688599705696106, reward:-148.17156982421875\n",
      "loss:-0.2347666174173355, reward:-125.41873931884766\n",
      "loss:-0.06854841858148575, reward:-70.41482543945312\n",
      "loss:0.07833399623632431, reward:-114.30224609375\n",
      "loss:0.17972521483898163, reward:-16.17303466796875\n",
      "loss:0.05172601342201233, reward:-24.012065887451172\n",
      "loss:-0.08962500095367432, reward:-41.89485549926758\n",
      "loss:0.07805298268795013, reward:-152.60800170898438\n",
      "loss:0.12817227840423584, reward:-62.20338439941406\n",
      "loss:0.08459127694368362, reward:-177.846923828125\n",
      "loss:-0.050898388028144836, reward:-92.34536743164062\n",
      "loss:0.06738151609897614, reward:-10.465642929077148\n",
      "loss:0.05927462875843048, reward:-25.82589340209961\n",
      "loss:-0.05095647647976875, reward:-146.6307830810547\n",
      "loss:0.38364678621292114, reward:-154.84664916992188\n",
      "loss:-0.00692100590094924, reward:-12.23756217956543\n",
      "loss:0.04186601564288139, reward:-64.48881530761719\n",
      "loss:0.00870426557958126, reward:-102.99459838867188\n",
      "loss:-0.1478680968284607, reward:-112.52580261230469\n",
      "loss:-0.03497360646724701, reward:-91.12125396728516\n",
      "loss:-0.15632498264312744, reward:-90.86224365234375\n",
      "loss:-0.03350650146603584, reward:-173.83006286621094\n",
      "loss:0.04701812192797661, reward:-120.56047821044922\n",
      "loss:0.12081038951873779, reward:-87.98751068115234\n",
      "loss:-0.239007368683815, reward:-41.46019744873047\n",
      "loss:0.05920342355966568, reward:-177.05215454101562\n",
      "loss:-0.1720513105392456, reward:-31.845293045043945\n",
      "loss:-0.14200125634670258, reward:-32.95823669433594\n",
      "loss:-0.2311536967754364, reward:-40.39851379394531\n",
      "loss:0.07436099648475647, reward:-104.25370788574219\n",
      "loss:0.07501190155744553, reward:-15.883939743041992\n",
      "loss:-0.009838521480560303, reward:-144.23855590820312\n",
      "loss:-0.0278296060860157, reward:-43.442020416259766\n",
      "loss:0.04341595619916916, reward:-124.54632568359375\n",
      "loss:-0.047404129058122635, reward:-128.2191925048828\n",
      "loss:0.09980718791484833, reward:-119.18529510498047\n",
      "loss:-0.1021437719464302, reward:-162.8443603515625\n",
      "loss:0.18166179955005646, reward:-11.423839569091797\n",
      "loss:-0.001625482807867229, reward:-162.57745361328125\n",
      "loss:0.1526639759540558, reward:-94.19091796875\n",
      "loss:0.09141327440738678, reward:-151.6481475830078\n",
      "loss:-0.0704931691288948, reward:-169.2839813232422\n",
      "loss:-0.19068990647792816, reward:-85.82290649414062\n",
      "loss:-0.14871789515018463, reward:-86.55795288085938\n",
      "loss:-0.068514384329319, reward:-68.15426635742188\n",
      "loss:-0.021571101620793343, reward:-182.29531860351562\n",
      "loss:-0.054851874709129333, reward:-37.44620895385742\n",
      "loss:0.2938656806945801, reward:-157.49790954589844\n",
      "loss:0.14498798549175262, reward:-146.52142333984375\n",
      "loss:-0.29000309109687805, reward:-45.403106689453125\n",
      "loss:-0.0893135815858841, reward:-151.06649780273438\n",
      "loss:0.17921170592308044, reward:-164.48773193359375\n",
      "loss:-0.15954384207725525, reward:-164.96365356445312\n",
      "loss:-0.2788107693195343, reward:-45.381309509277344\n",
      "loss:-0.22962293028831482, reward:-41.69171142578125\n",
      "loss:0.18971002101898193, reward:-154.9100341796875\n",
      "loss:0.06821219623088837, reward:-180.54559326171875\n",
      "loss:0.09175470471382141, reward:-66.80026245117188\n",
      "loss:0.004786818753927946, reward:-124.28451538085938\n",
      "loss:-0.17775197327136993, reward:-33.204402923583984\n",
      "loss:-0.15787538886070251, reward:-56.04364776611328\n",
      "loss:0.3576347231864929, reward:-58.83988952636719\n",
      "loss:0.006781320087611675, reward:-166.998046875\n",
      "loss:-0.03495796397328377, reward:-49.60150146484375\n",
      "loss:-0.14215952157974243, reward:-164.5839385986328\n",
      "loss:0.14334924519062042, reward:-53.63200378417969\n",
      "loss:-0.10114392638206482, reward:-69.81798553466797\n",
      "loss:0.0017904244596138597, reward:-143.58657836914062\n",
      "loss:-0.02348807454109192, reward:-24.323219299316406\n",
      "loss:-0.010595640167593956, reward:-32.98033905029297\n",
      "loss:0.30560269951820374, reward:-6.252859115600586\n",
      "loss:-0.1075749471783638, reward:-87.64674377441406\n",
      "loss:0.10699287056922913, reward:-125.35395050048828\n",
      "loss:0.006250512320548296, reward:-138.76760864257812\n",
      "loss:-0.07095178216695786, reward:-93.60086059570312\n",
      "loss:0.2042829394340515, reward:-41.57649230957031\n",
      "loss:0.04004978761076927, reward:-160.60684204101562\n",
      "loss:0.008775654248893261, reward:-15.93786907196045\n",
      "loss:-0.14482271671295166, reward:-174.12771606445312\n",
      "loss:0.07842046022415161, reward:-164.58865356445312\n",
      "loss:-0.04587816447019577, reward:-67.22283172607422\n",
      "loss:0.303800106048584, reward:-133.50149536132812\n",
      "loss:-0.041229650378227234, reward:-156.3924102783203\n",
      "loss:0.15671521425247192, reward:-120.22970581054688\n",
      "loss:-0.0005290820263326168, reward:-161.05755615234375\n",
      "loss:-0.031246688216924667, reward:-171.31588745117188\n",
      "loss:-0.06910097599029541, reward:-170.0625762939453\n",
      "loss:0.1522056758403778, reward:-26.82737922668457\n",
      "loss:-0.04589225351810455, reward:-119.97948455810547\n",
      "loss:-0.17114096879959106, reward:-164.5240478515625\n",
      "loss:-0.19575853645801544, reward:-91.78152465820312\n",
      "loss:-0.06372684240341187, reward:-21.368759155273438\n",
      "loss:-0.07632159441709518, reward:-160.5284881591797\n",
      "loss:0.4181823432445526, reward:-108.24134063720703\n",
      "loss:-0.32356101274490356, reward:-67.23188781738281\n",
      "loss:-0.024715682491660118, reward:-145.10044860839844\n",
      "loss:-0.00038002044311724603, reward:-104.7220230102539\n",
      "loss:0.0704195499420166, reward:-135.67982482910156\n",
      "loss:0.0006137127056717873, reward:-147.71255493164062\n",
      "loss:-0.310588002204895, reward:-151.72021484375\n",
      "loss:-0.21890217065811157, reward:-15.790495872497559\n",
      "loss:0.08745146542787552, reward:-34.901573181152344\n",
      "loss:-0.15853533148765564, reward:-126.30497741699219\n",
      "loss:-0.003924468066543341, reward:-58.160850524902344\n",
      "loss:0.3626881241798401, reward:-126.3119888305664\n",
      "loss:-0.11025869846343994, reward:-81.10186767578125\n",
      "loss:-5.6953285820782185e-05, reward:-171.23931884765625\n",
      "loss:0.058160532265901566, reward:-137.31275939941406\n",
      "loss:0.1682915985584259, reward:-96.77716064453125\n",
      "loss:0.00115978776011616, reward:-42.99030303955078\n",
      "loss:0.056966494768857956, reward:-132.328125\n",
      "loss:0.10591130703687668, reward:-152.50775146484375\n",
      "loss:0.006425189785659313, reward:-34.34172439575195\n",
      "loss:-0.006152230780571699, reward:-145.31370544433594\n",
      "loss:0.23195873200893402, reward:-157.01388549804688\n",
      "loss:-0.00030143168987706304, reward:-60.84697723388672\n",
      "loss:-0.026767419651150703, reward:-150.15814208984375\n",
      "loss:0.009241871535778046, reward:-140.43081665039062\n",
      "loss:0.13057070970535278, reward:-167.3023681640625\n",
      "loss:0.11434322595596313, reward:-121.90249633789062\n",
      "loss:-0.06938168406486511, reward:-79.05516815185547\n",
      "loss:-0.004395680036395788, reward:-105.79523468017578\n",
      "loss:-0.14096009731292725, reward:-96.51596069335938\n",
      "loss:-0.20251166820526123, reward:-166.8461456298828\n",
      "loss:0.00020011511514894664, reward:-147.97531127929688\n",
      "loss:-0.2683451473712921, reward:-31.160015106201172\n",
      "loss:-0.0031279956456273794, reward:-115.91392517089844\n",
      "loss:-0.10252626240253448, reward:-90.43775177001953\n",
      "loss:-0.24290834367275238, reward:-156.74758911132812\n",
      "loss:-0.12821736931800842, reward:-65.87179565429688\n",
      "loss:-0.0058428021147847176, reward:-26.692672729492188\n",
      "loss:0.004803181160241365, reward:-14.33527946472168\n",
      "loss:-0.04720146209001541, reward:-71.84780883789062\n",
      "loss:0.09318633377552032, reward:-153.74014282226562\n",
      "loss:0.2002158761024475, reward:-72.66210174560547\n",
      "loss:0.0013002695050090551, reward:-176.9371337890625\n",
      "loss:-0.04927036911249161, reward:-127.78711700439453\n",
      "loss:-0.16826798021793365, reward:-117.20136260986328\n",
      "loss:-0.0814461037516594, reward:-133.95269775390625\n",
      "loss:-0.0001453061559004709, reward:-46.383087158203125\n",
      "loss:0.1055741086602211, reward:-65.867431640625\n",
      "loss:-0.02458014152944088, reward:-28.3533935546875\n",
      "loss:-0.01985897868871689, reward:-43.57367706298828\n",
      "loss:0.03544754534959793, reward:-163.91946411132812\n",
      "loss:-0.0032810859847813845, reward:-36.649356842041016\n",
      "loss:-0.0021292411256581545, reward:-81.67082977294922\n",
      "loss:-0.0006855860119685531, reward:-108.26287841796875\n",
      "loss:0.004814619198441505, reward:-150.5201416015625\n",
      "loss:0.15572640299797058, reward:0.8807277679443359\n",
      "loss:-0.0033491039648652077, reward:-44.19810485839844\n",
      "loss:0.04992992803454399, reward:-65.89227294921875\n",
      "loss:0.0005239100428298116, reward:-113.20030975341797\n",
      "loss:0.0010537693742662668, reward:-124.975830078125\n",
      "loss:0.29955893754959106, reward:-105.71028137207031\n",
      "loss:-0.042112771421670914, reward:-74.53633117675781\n",
      "loss:-0.09158924221992493, reward:-60.738121032714844\n",
      "loss:-3.416559047764167e-05, reward:-137.1005859375\n",
      "loss:-0.007957437075674534, reward:-37.02580261230469\n",
      "loss:-4.631521733244881e-05, reward:-26.985429763793945\n",
      "loss:0.0003913662803824991, reward:-163.78338623046875\n",
      "loss:0.05507264658808708, reward:-121.19557189941406\n",
      "loss:0.14989803731441498, reward:-13.9798002243042\n",
      "loss:0.01568325236439705, reward:-58.441062927246094\n",
      "loss:0.03809069097042084, reward:-86.87266540527344\n",
      "loss:-0.00021443763398565352, reward:-63.787784576416016\n",
      "loss:-0.12832432985305786, reward:-63.071624755859375\n",
      "loss:-0.04835336655378342, reward:-33.22616958618164\n",
      "loss:-0.008341943845152855, reward:-163.01686096191406\n",
      "loss:-2.2196225472725928e-05, reward:-142.54885864257812\n",
      "loss:-0.012256144545972347, reward:-101.39818572998047\n",
      "loss:0.00680176867172122, reward:-159.195556640625\n",
      "loss:0.08810964971780777, reward:-96.81150817871094\n",
      "loss:8.867868018569425e-05, reward:-139.6685791015625\n",
      "loss:0.1127149760723114, reward:-150.5194549560547\n",
      "loss:0.00013280112762004137, reward:-34.27519989013672\n",
      "loss:0.102817602455616, reward:-128.56878662109375\n",
      "loss:-0.10470093041658401, reward:-50.42755889892578\n",
      "loss:-0.16378262639045715, reward:-74.13280487060547\n",
      "loss:-0.1867581009864807, reward:-114.64102172851562\n",
      "loss:4.199278919259086e-05, reward:-168.9973602294922\n",
      "loss:-0.00018022028962150216, reward:-38.99915313720703\n",
      "loss:-0.14176493883132935, reward:-80.5867919921875\n",
      "loss:-0.07093153893947601, reward:-26.97989845275879\n",
      "loss:0.0004386212967801839, reward:-123.93557739257812\n",
      "loss:-0.03303153067827225, reward:-125.62893676757812\n",
      "loss:-0.0004524076357483864, reward:-130.54052734375\n",
      "loss:-0.0014355124440044165, reward:-38.81605529785156\n",
      "loss:-0.1142255961894989, reward:-3.475954532623291\n",
      "loss:0.14079557359218597, reward:-104.31317138671875\n",
      "loss:-7.610688771819696e-05, reward:-93.62026977539062\n",
      "loss:0.19352325797080994, reward:-173.8466339111328\n",
      "loss:5.348195554688573e-05, reward:-129.86790466308594\n",
      "loss:-0.08356781303882599, reward:-138.9670867919922\n",
      "loss:-0.017330912873148918, reward:-27.51189613342285\n",
      "loss:-0.00021464888413902372, reward:-95.1051025390625\n",
      "loss:0.1316843032836914, reward:-110.78369140625\n",
      "loss:-0.0028181306552141905, reward:-129.14511108398438\n",
      "loss:-6.902270979480818e-05, reward:-170.807373046875\n",
      "loss:-0.012537103146314621, reward:-121.64430236816406\n",
      "loss:-0.0013916208408772945, reward:-152.35009765625\n",
      "loss:0.07478335499763489, reward:-136.14215087890625\n",
      "loss:-0.03100438416004181, reward:-163.9493408203125\n",
      "loss:-0.0001581209508003667, reward:-98.05409240722656\n",
      "loss:0.0070495884865522385, reward:-153.90591430664062\n",
      "loss:-0.0011267734225839376, reward:-69.67784118652344\n",
      "loss:-0.0012994856806471944, reward:-49.39592361450195\n",
      "loss:-0.036258991807699203, reward:-170.62762451171875\n",
      "loss:0.00013714593660552055, reward:-21.6572322845459\n",
      "loss:-0.014297125861048698, reward:-108.55156707763672\n",
      "loss:-0.000876561040058732, reward:-64.81879425048828\n",
      "loss:-0.01235659047961235, reward:-144.35984802246094\n",
      "loss:0.11443018913269043, reward:-133.50448608398438\n",
      "loss:0.00043217322672717273, reward:-55.670841217041016\n",
      "loss:0.0016484209336340427, reward:-128.0191192626953\n",
      "loss:-0.018184397369623184, reward:-156.45518493652344\n",
      "loss:-0.00010393661796115339, reward:-104.59391784667969\n",
      "loss:0.006463826633989811, reward:-123.80752563476562\n",
      "loss:-0.0009742833208292723, reward:-141.9595184326172\n",
      "loss:-0.10768436640501022, reward:-152.01832580566406\n",
      "loss:-0.12858930230140686, reward:-11.10257625579834\n",
      "loss:-0.02143418975174427, reward:-15.665266036987305\n",
      "loss:0.13080888986587524, reward:-88.306640625\n",
      "loss:0.0001417197345290333, reward:-22.008892059326172\n",
      "loss:-0.016426896676421165, reward:-136.06509399414062\n",
      "loss:-0.002107689157128334, reward:-161.39675903320312\n",
      "loss:-0.0033983478788286448, reward:-116.92938232421875\n",
      "loss:0.0031175422482192516, reward:-171.99172973632812\n",
      "loss:-0.07757312059402466, reward:-148.77401733398438\n",
      "loss:3.565583028830588e-06, reward:-155.69371032714844\n",
      "loss:0.2989499568939209, reward:-42.04671859741211\n",
      "loss:-3.009063220815733e-05, reward:-71.06803131103516\n",
      "loss:-0.13096313178539276, reward:-99.52800750732422\n",
      "loss:-0.0003641051007434726, reward:-41.120758056640625\n",
      "loss:-0.08420093357563019, reward:-43.01960372924805\n",
      "loss:0.00011778296175180003, reward:-0.0491185188293457\n",
      "loss:0.00122257717885077, reward:-143.32766723632812\n",
      "loss:-0.15810491144657135, reward:-34.27421188354492\n",
      "loss:0.1626628190279007, reward:-124.42161560058594\n",
      "loss:0.02857951819896698, reward:-134.76324462890625\n",
      "loss:-0.00020335052977316082, reward:-57.07262420654297\n",
      "loss:0.0680563896894455, reward:-162.80148315429688\n",
      "loss:0.0008219924056902528, reward:-26.448305130004883\n",
      "loss:0.16804103553295135, reward:-6.07432746887207\n",
      "loss:-3.987712989328429e-05, reward:-28.66204833984375\n",
      "loss:0.00017646668129600585, reward:-147.90834045410156\n",
      "loss:0.1165458932518959, reward:-162.17404174804688\n",
      "loss:-5.4026877478463575e-05, reward:-17.365863800048828\n",
      "loss:-0.00011132656800327823, reward:-118.25643157958984\n",
      "loss:0.0006754163186997175, reward:-8.80502700805664\n",
      "loss:0.0005125577445141971, reward:-52.20409393310547\n",
      "loss:-0.1394338607788086, reward:-43.10562515258789\n",
      "loss:-0.13981327414512634, reward:-42.30670166015625\n",
      "loss:0.1181805282831192, reward:-116.4153823852539\n",
      "loss:-0.0068449643440544605, reward:-65.68644714355469\n",
      "loss:0.006392698734998703, reward:-118.87052154541016\n",
      "loss:-5.819447687827051e-05, reward:-174.1051025390625\n",
      "loss:0.00021010110503993928, reward:-15.02587890625\n",
      "loss:0.07911629974842072, reward:-166.656982421875\n",
      "loss:-0.21791037917137146, reward:-41.847808837890625\n",
      "loss:0.19717052578926086, reward:-86.02156066894531\n",
      "loss:-3.269356966484338e-06, reward:-141.7135009765625\n",
      "loss:0.004113967530429363, reward:-150.20126342773438\n",
      "loss:0.11042279005050659, reward:-64.58147430419922\n",
      "loss:-0.0835566446185112, reward:-111.26908111572266\n",
      "loss:0.056916244328022, reward:-152.04457092285156\n",
      "loss:0.001837699324823916, reward:-68.42881774902344\n",
      "loss:-0.00016458495520055294, reward:-80.13957214355469\n",
      "loss:0.09006867557764053, reward:-109.51292419433594\n",
      "loss:0.0025871088728308678, reward:-151.05853271484375\n",
      "loss:-0.10354693233966827, reward:-117.94429779052734\n",
      "loss:-0.00010355495032854378, reward:-179.3003692626953\n",
      "loss:0.000571887765545398, reward:-115.92732238769531\n",
      "loss:0.003148893127217889, reward:-10.767784118652344\n",
      "loss:0.11418704688549042, reward:-177.02426147460938\n",
      "loss:-0.08436968177556992, reward:-62.38947677612305\n",
      "loss:-0.049881547689437866, reward:-90.08868408203125\n",
      "loss:-0.08807592839002609, reward:-21.802257537841797\n",
      "loss:0.0006430172361433506, reward:-117.80528259277344\n",
      "loss:-0.20097129046916962, reward:-97.82441711425781\n",
      "loss:0.03246809542179108, reward:-62.57353210449219\n",
      "loss:-0.08595730364322662, reward:-175.02435302734375\n",
      "loss:-0.12892568111419678, reward:-110.18338012695312\n",
      "loss:0.21963123977184296, reward:-174.84268188476562\n",
      "loss:0.0004836968146264553, reward:-146.087646484375\n",
      "loss:-0.19943377375602722, reward:-180.62847900390625\n",
      "loss:0.004213376902043819, reward:-55.04589080810547\n",
      "loss:-2.770286300801672e-05, reward:-142.06439208984375\n",
      "loss:-7.622174598509446e-05, reward:-34.06614303588867\n",
      "loss:-0.12448719143867493, reward:-127.35359191894531\n",
      "loss:-0.07524795085191727, reward:-50.090980529785156\n",
      "loss:-0.045233845710754395, reward:-166.00242614746094\n",
      "loss:-0.04169103875756264, reward:-156.18222045898438\n",
      "loss:-0.0001964465918717906, reward:-144.96583557128906\n",
      "loss:-0.022457672283053398, reward:-116.87286376953125\n",
      "loss:0.041632167994976044, reward:-82.89241027832031\n",
      "loss:-0.2382543534040451, reward:-122.86873626708984\n",
      "loss:-0.0452130064368248, reward:-68.00611877441406\n",
      "loss:0.00010608961019897833, reward:-139.98794555664062\n",
      "loss:0.0019143151585012674, reward:-150.82620239257812\n",
      "loss:-4.375971184344962e-05, reward:-151.47390747070312\n",
      "loss:-2.3703349143033847e-05, reward:-176.6920166015625\n",
      "loss:1.2847426660300698e-05, reward:-67.88088989257812\n",
      "loss:1.4493389244307764e-05, reward:-21.96852684020996\n",
      "loss:-3.603432196541689e-05, reward:-55.79541778564453\n",
      "loss:0.05616101250052452, reward:-176.65081787109375\n",
      "loss:0.00035480118822306395, reward:-107.99783325195312\n",
      "loss:-0.0006193962180987, reward:-106.0130844116211\n",
      "loss:-6.260559894144535e-05, reward:-166.36985778808594\n",
      "loss:-0.06785211712121964, reward:-165.81289672851562\n",
      "loss:-4.159330273978412e-06, reward:-139.12796020507812\n",
      "loss:-1.8737342543317936e-05, reward:-118.27364349365234\n",
      "loss:0.05470908805727959, reward:-138.4136199951172\n",
      "loss:-0.17789149284362793, reward:-151.1356964111328\n",
      "loss:-9.460705996389152e-07, reward:-18.785537719726562\n",
      "loss:-2.7701444196281955e-05, reward:-158.07720947265625\n",
      "loss:-0.15809281170368195, reward:-11.618790626525879\n",
      "loss:2.320715066161938e-05, reward:-35.375732421875\n",
      "loss:0.08662597090005875, reward:-162.5830535888672\n",
      "loss:-0.0003535558353178203, reward:-113.21150207519531\n",
      "loss:-1.6524152670172043e-05, reward:-30.804309844970703\n",
      "loss:-1.3669487998413388e-05, reward:-67.49836730957031\n",
      "loss:0.0003750491887331009, reward:-60.691471099853516\n",
      "loss:0.0029094754718244076, reward:-59.91257858276367\n",
      "loss:0.18274211883544922, reward:-168.99734497070312\n",
      "loss:0.0017212146194651723, reward:-17.307537078857422\n",
      "loss:0.0016978117637336254, reward:-82.40570831298828\n",
      "loss:0.00021528371144086123, reward:-170.65567016601562\n",
      "loss:-7.072218431858346e-05, reward:-103.32410430908203\n",
      "loss:0.001288868486881256, reward:-36.50442123413086\n",
      "loss:-0.0006498859147541225, reward:-46.086639404296875\n",
      "loss:0.29942643642425537, reward:-168.16175842285156\n",
      "loss:-0.11621610820293427, reward:8.40723705291748\n",
      "loss:-7.204847497632727e-05, reward:-95.32520294189453\n",
      "loss:-0.0021064290776848793, reward:-110.13570404052734\n",
      "loss:0.025646455585956573, reward:-34.43178939819336\n",
      "loss:-0.10532680153846741, reward:-72.01036071777344\n",
      "loss:0.00023856217740103602, reward:-44.298038482666016\n",
      "loss:-0.14676885306835175, reward:-130.6157684326172\n",
      "loss:0.0003876265836879611, reward:-35.56547546386719\n",
      "loss:-3.201010258635506e-05, reward:-39.38886260986328\n",
      "loss:0.04424264281988144, reward:-100.28874206542969\n",
      "loss:-0.02928652986884117, reward:-6.246889114379883\n",
      "loss:0.17522792518138885, reward:-151.45852661132812\n",
      "loss:-0.05004369094967842, reward:-148.07447814941406\n",
      "loss:-3.45520152222889e-06, reward:-162.65798950195312\n",
      "loss:-2.7002011847798713e-05, reward:-155.64244079589844\n",
      "loss:-5.7307788665639237e-05, reward:-122.87612915039062\n",
      "loss:9.241293446393684e-05, reward:-78.37220764160156\n",
      "loss:-6.45559121039696e-05, reward:-101.02490997314453\n",
      "loss:-2.099746097883326e-06, reward:-170.43115234375\n",
      "loss:-6.2067474573268555e-06, reward:-131.54421997070312\n",
      "loss:-0.07453316450119019, reward:-137.4787139892578\n",
      "loss:-0.09295900911092758, reward:-109.60142517089844\n",
      "loss:1.3091192158753984e-05, reward:-78.2500228881836\n",
      "loss:-5.069549661129713e-05, reward:-145.79238891601562\n",
      "loss:0.043073173612356186, reward:-107.88818359375\n",
      "loss:0.0011532612843438983, reward:-87.4306640625\n",
      "loss:-0.0004231008351780474, reward:-48.19655990600586\n",
      "loss:-4.457996055862168e-06, reward:-159.04226684570312\n",
      "loss:5.411954043665901e-05, reward:-67.10650634765625\n",
      "loss:3.5781413316726685e-05, reward:-168.9367218017578\n",
      "loss:-0.07373026013374329, reward:-172.68214416503906\n",
      "loss:0.2839168310165405, reward:-84.84520721435547\n",
      "loss:-0.2546444833278656, reward:-157.04342651367188\n",
      "loss:0.21738986670970917, reward:-149.9360809326172\n",
      "loss:-0.07865016162395477, reward:-60.34130096435547\n",
      "loss:0.1072569191455841, reward:-147.43255615234375\n",
      "loss:-0.11526437103748322, reward:-57.65497589111328\n",
      "loss:0.11052089929580688, reward:-113.48588562011719\n",
      "loss:-8.576524805903318e-07, reward:-165.17022705078125\n",
      "loss:0.002056246157735586, reward:-31.379009246826172\n",
      "loss:-3.2703715078241657e-06, reward:-157.34893798828125\n",
      "loss:-2.973780738102505e-06, reward:-163.90802001953125\n",
      "loss:5.46760793440626e-06, reward:-103.77433776855469\n",
      "loss:-0.1592559963464737, reward:-97.340576171875\n",
      "loss:-1.0430932888993993e-05, reward:-147.2937469482422\n",
      "loss:0.00478646345436573, reward:-32.99449920654297\n",
      "loss:-0.0030666536185890436, reward:-176.76318359375\n",
      "loss:0.00042712822323665023, reward:-30.28547477722168\n",
      "loss:0.06991896778345108, reward:-22.722837448120117\n",
      "loss:0.16195334494113922, reward:-20.292804718017578\n",
      "loss:-0.0012794898357242346, reward:-13.490280151367188\n",
      "loss:-9.045783372130245e-05, reward:-94.11495971679688\n",
      "loss:0.0001184314678539522, reward:-54.1300048828125\n",
      "loss:-7.492132226616377e-06, reward:-156.53041076660156\n",
      "loss:-4.451641871128231e-06, reward:-165.51190185546875\n",
      "loss:0.00014622588059864938, reward:-35.794864654541016\n",
      "loss:-0.007407825440168381, reward:-108.18655395507812\n",
      "loss:-0.0004000978951808065, reward:-95.61419677734375\n",
      "loss:-3.8160163967404515e-05, reward:-21.66909408569336\n",
      "loss:0.11906062066555023, reward:-95.28508758544922\n",
      "loss:1.1144822565256618e-05, reward:-79.43526458740234\n",
      "loss:-0.004477334208786488, reward:-79.38569641113281\n",
      "loss:0.008829077705740929, reward:-94.78125\n",
      "loss:-0.0001508559798821807, reward:-138.84136962890625\n",
      "loss:-1.1133777661598288e-05, reward:-32.58822250366211\n",
      "loss:-0.00310933543369174, reward:-54.78700256347656\n",
      "loss:0.08557552844285965, reward:-167.52316284179688\n",
      "loss:-9.157357271760702e-05, reward:-103.38868713378906\n",
      "loss:0.16659323871135712, reward:-164.07667541503906\n",
      "loss:-0.0002483866992406547, reward:-80.23115539550781\n",
      "loss:9.285233682021499e-05, reward:-162.1966552734375\n",
      "loss:0.07670405507087708, reward:-159.4399871826172\n",
      "loss:-0.00018955228733830154, reward:-160.07151794433594\n",
      "loss:-0.013316082768142223, reward:-38.8841667175293\n",
      "loss:-5.4758442274760455e-05, reward:-38.54774475097656\n",
      "loss:0.00661718612536788, reward:-137.66397094726562\n",
      "loss:-0.0004615483630914241, reward:-115.7425765991211\n",
      "loss:-1.5277978491212707e-06, reward:-102.93940734863281\n",
      "loss:-2.8958907932974398e-05, reward:9.64535140991211\n",
      "loss:-2.802717972372193e-05, reward:-11.696533203125\n",
      "loss:-0.16163185238838196, reward:-122.63653564453125\n",
      "loss:0.0033630821853876114, reward:-166.3758544921875\n",
      "loss:-5.461413093144074e-05, reward:-153.0765380859375\n",
      "loss:0.07832589745521545, reward:-179.703125\n",
      "loss:-0.0466865599155426, reward:-168.15438842773438\n",
      "loss:0.016688866540789604, reward:-174.36093139648438\n",
      "loss:-0.22762678563594818, reward:-169.599853515625\n",
      "loss:-0.16348151862621307, reward:-99.09580993652344\n",
      "loss:-0.1537235677242279, reward:-130.6199951171875\n",
      "loss:-0.07235433906316757, reward:-177.31788635253906\n",
      "loss:-0.0001855425362009555, reward:-100.9527587890625\n",
      "loss:-0.0016498201293870807, reward:-112.50373840332031\n",
      "loss:-0.13107797503471375, reward:-140.80560302734375\n",
      "loss:-0.00046343053691089153, reward:-111.11263275146484\n",
      "loss:-9.156881424132735e-05, reward:-162.8257598876953\n",
      "loss:0.0017565404996275902, reward:-134.3636932373047\n",
      "loss:0.0004622882988769561, reward:-83.78791809082031\n",
      "loss:0.08462401479482651, reward:-158.92510986328125\n",
      "loss:0.06635463237762451, reward:-12.85673713684082\n",
      "loss:0.05277909338474274, reward:-152.78765869140625\n",
      "loss:-3.912977263098583e-06, reward:-164.7427520751953\n",
      "loss:8.517132300767116e-06, reward:-87.29969787597656\n",
      "loss:4.4945962144993246e-05, reward:-76.9962158203125\n",
      "loss:0.2088613510131836, reward:-175.96730041503906\n",
      "loss:0.01853497140109539, reward:-45.539180755615234\n",
      "loss:-0.0028611316811293364, reward:-127.94355010986328\n",
      "loss:-1.8841254131984897e-05, reward:-175.95945739746094\n",
      "loss:-0.00016775692347437143, reward:-36.5390739440918\n",
      "loss:-1.1884402510986547e-06, reward:-140.21800231933594\n",
      "loss:3.5167471651220694e-05, reward:-170.04437255859375\n",
      "loss:-0.00014039511734154075, reward:-155.02700805664062\n",
      "loss:1.5156943845795467e-05, reward:-138.525390625\n",
      "loss:-0.0015354284550994635, reward:-76.02516174316406\n",
      "loss:-0.0015256806509569287, reward:-36.516136169433594\n",
      "loss:-0.11095744371414185, reward:-22.344837188720703\n",
      "loss:-0.07000831514596939, reward:-134.45559692382812\n",
      "loss:-0.04701438173651695, reward:-14.0723876953125\n",
      "loss:0.0634293407201767, reward:-15.00361156463623\n",
      "loss:0.0041017113253474236, reward:-145.0913848876953\n",
      "loss:-8.478894415020477e-06, reward:-170.72869873046875\n",
      "loss:0.005518821068108082, reward:-126.51424407958984\n",
      "loss:0.0013466618256643414, reward:-90.11813354492188\n",
      "loss:0.00014969328185543418, reward:-56.20470428466797\n",
      "loss:-0.00035805112565867603, reward:-19.828414916992188\n",
      "loss:0.18299350142478943, reward:-105.88252258300781\n",
      "loss:-0.12487383186817169, reward:-50.734256744384766\n",
      "loss:0.0003592100692912936, reward:-127.67584228515625\n",
      "loss:4.151159373577684e-05, reward:-37.68363952636719\n",
      "loss:0.11421707272529602, reward:-93.60317993164062\n",
      "loss:0.04874321445822716, reward:-22.403850555419922\n",
      "loss:0.039160069078207016, reward:-139.6533966064453\n",
      "loss:-0.09882165491580963, reward:-48.70014953613281\n",
      "loss:0.00014095657388679683, reward:-1.2190446853637695\n",
      "loss:0.02075938507914543, reward:-152.2917022705078\n",
      "loss:-1.0184579878114164e-05, reward:-163.06761169433594\n",
      "loss:-1.574720226926729e-05, reward:-135.69415283203125\n",
      "loss:-2.0566381863318384e-05, reward:-44.089500427246094\n",
      "loss:-3.0510838655573025e-07, reward:-80.41250610351562\n",
      "loss:-6.098472113080788e-06, reward:-155.8648681640625\n",
      "loss:0.1417125165462494, reward:-133.04310607910156\n",
      "loss:-0.08269338309764862, reward:-87.60099792480469\n",
      "loss:-0.00010187459702137858, reward:-103.32598876953125\n",
      "loss:2.179119474021718e-05, reward:-163.08816528320312\n",
      "loss:-0.029613139107823372, reward:-21.21982765197754\n",
      "loss:0.10819011926651001, reward:-134.9507293701172\n",
      "loss:-0.10772473365068436, reward:-49.84050369262695\n",
      "loss:0.18681004643440247, reward:-161.022216796875\n",
      "loss:1.170223868030007e-06, reward:-30.18065643310547\n",
      "loss:-4.281683868612163e-05, reward:-103.02052307128906\n",
      "loss:-0.0700276792049408, reward:-9.204267501831055\n",
      "loss:0.061758942902088165, reward:-157.07012939453125\n",
      "loss:0.08941438049077988, reward:-155.45846557617188\n",
      "loss:9.046588274941314e-06, reward:-32.604217529296875\n",
      "loss:8.844733201840427e-06, reward:-76.58586120605469\n",
      "loss:0.07147179543972015, reward:-154.18649291992188\n",
      "loss:-8.72948112373706e-06, reward:-35.290870666503906\n",
      "loss:0.07610438764095306, reward:-55.42190170288086\n",
      "loss:0.0046887584030628204, reward:-148.39129638671875\n",
      "loss:-5.163369678484742e-06, reward:7.063846111297607\n",
      "loss:1.1864988209708827e-06, reward:-113.73355102539062\n",
      "loss:4.295123653719202e-05, reward:-128.6881103515625\n",
      "loss:-0.00014458347868639976, reward:-49.97252655029297\n",
      "loss:0.00156625104136765, reward:-123.30386352539062\n",
      "loss:-0.24377559125423431, reward:-54.186790466308594\n",
      "loss:-2.8168819881102536e-06, reward:-164.480712890625\n",
      "loss:-1.5287714631995186e-06, reward:-85.60791015625\n",
      "loss:-0.00025968209956772625, reward:-24.092273712158203\n",
      "loss:1.5967676517902873e-05, reward:-121.19883728027344\n",
      "loss:-4.275933861208614e-06, reward:-28.331134796142578\n",
      "loss:-0.0005490469047799706, reward:-98.97459411621094\n",
      "loss:0.0008994177915155888, reward:-37.67811584472656\n",
      "loss:3.7262230762280524e-05, reward:-90.36585998535156\n",
      "loss:-0.11502373963594437, reward:-171.93359375\n",
      "loss:-0.00023357331519946456, reward:-136.7516326904297\n",
      "loss:2.1962794562568888e-05, reward:-54.196266174316406\n",
      "loss:-4.49847021855021e-07, reward:-139.85223388671875\n",
      "loss:-0.09152544289827347, reward:-183.6370849609375\n",
      "loss:-3.699318540384411e-07, reward:-165.00454711914062\n",
      "loss:0.05723560228943825, reward:-42.70816421508789\n",
      "loss:-0.19668053090572357, reward:-61.092193603515625\n",
      "loss:0.0004281761939637363, reward:-175.26605224609375\n",
      "loss:-0.00012171042908448726, reward:-50.71321105957031\n",
      "loss:0.1988227814435959, reward:-162.634765625\n",
      "loss:-6.864369424874894e-06, reward:-7.4750776290893555\n",
      "loss:0.018116921186447144, reward:-5.247125625610352\n",
      "loss:0.009762460365891457, reward:4.836716175079346\n",
      "loss:-0.21200190484523773, reward:-19.685043334960938\n",
      "loss:-1.779807007551426e-06, reward:-160.3756103515625\n",
      "loss:9.750129538588226e-05, reward:-115.32272338867188\n",
      "loss:-0.10535878688097, reward:-171.89151000976562\n",
      "loss:-1.8280106814927422e-06, reward:-136.38925170898438\n",
      "loss:0.002939690835773945, reward:-105.15901184082031\n",
      "loss:0.12968206405639648, reward:-182.42959594726562\n",
      "loss:-0.003168912138789892, reward:-50.74906921386719\n",
      "loss:-0.007588556967675686, reward:-100.2937240600586\n",
      "loss:7.157763320719823e-06, reward:-41.2540283203125\n",
      "loss:0.09661169350147247, reward:-51.22715759277344\n",
      "loss:-3.633178857853636e-05, reward:-125.11515808105469\n",
      "loss:1.4648858268628828e-05, reward:-124.11270141601562\n",
      "loss:-0.008717313408851624, reward:-112.95243835449219\n",
      "loss:0.000505845295265317, reward:-159.0706787109375\n",
      "loss:-0.0008757601026445627, reward:-123.05484008789062\n",
      "loss:2.1646710592904128e-05, reward:-104.61354064941406\n",
      "loss:0.005005561280995607, reward:-124.17811584472656\n",
      "loss:0.0003340709372423589, reward:-132.6254425048828\n",
      "loss:0.14801481366157532, reward:-81.47834777832031\n",
      "loss:8.011194586288184e-05, reward:-129.64520263671875\n",
      "loss:0.05305677652359009, reward:-50.18156814575195\n",
      "loss:-0.05043717846274376, reward:-76.01993560791016\n",
      "loss:-0.08256323635578156, reward:-40.431583404541016\n",
      "loss:5.198583039600635e-07, reward:-172.97756958007812\n",
      "loss:-7.735341932857409e-05, reward:-153.12130737304688\n",
      "loss:-0.029476111754775047, reward:-68.1414566040039\n",
      "loss:-0.052633579820394516, reward:-62.532615661621094\n",
      "loss:-1.1988279311481165e-06, reward:-4.420766830444336\n",
      "loss:-3.248980817716074e-08, reward:-169.47836303710938\n",
      "loss:-8.199988951673731e-05, reward:-39.16206359863281\n",
      "loss:0.004966051317751408, reward:-171.9985809326172\n",
      "loss:0.08792537450790405, reward:-52.7872200012207\n",
      "loss:6.517304882436292e-07, reward:-62.77374267578125\n",
      "loss:9.21768878470175e-06, reward:-166.40008544921875\n",
      "loss:4.298728129015217e-08, reward:-172.03591918945312\n",
      "loss:-0.18093626201152802, reward:-175.61669921875\n",
      "loss:-0.00014482832921203226, reward:-116.32643127441406\n",
      "loss:-0.05632950738072395, reward:-57.047645568847656\n",
      "loss:3.338574288136442e-07, reward:-186.90957641601562\n",
      "loss:0.12344371527433395, reward:-133.39710998535156\n",
      "loss:0.07813505828380585, reward:-64.34587097167969\n",
      "loss:-1.5161922419792973e-06, reward:-52.416263580322266\n",
      "loss:4.843732313020155e-05, reward:-176.8743438720703\n",
      "loss:0.2126816213130951, reward:-167.3918914794922\n",
      "loss:-1.8827698795575998e-06, reward:-135.89752197265625\n",
      "loss:2.965190105896909e-06, reward:-154.0789794921875\n",
      "loss:0.10994844138622284, reward:-105.63856506347656\n",
      "loss:5.422840331448242e-05, reward:-107.32508087158203\n",
      "loss:-6.653036166426318e-07, reward:2.002902030944824\n",
      "loss:-0.013135513290762901, reward:-99.2843246459961\n",
      "loss:-5.198897952141124e-07, reward:-159.11456298828125\n",
      "loss:0.01604839228093624, reward:-60.15610122680664\n",
      "loss:-0.011239947751164436, reward:-164.05740356445312\n",
      "loss:-1.212569316066947e-07, reward:-57.80242919921875\n",
      "loss:0.01269413623958826, reward:-151.88180541992188\n",
      "loss:-0.040904246270656586, reward:-98.61151123046875\n",
      "loss:0.06489692628383636, reward:-86.58221435546875\n",
      "loss:-2.2445721697295085e-05, reward:-177.3460693359375\n",
      "loss:-0.1625288724899292, reward:-124.91181945800781\n",
      "loss:0.0004905068199150264, reward:-176.5709228515625\n",
      "loss:3.0317853088490665e-05, reward:-11.477249145507812\n",
      "loss:-2.166035812933842e-07, reward:-110.89372253417969\n",
      "loss:-1.2419071936164983e-05, reward:-161.38804626464844\n",
      "loss:-0.0004631598712876439, reward:-163.221923828125\n",
      "loss:7.821819053788204e-06, reward:-81.1904296875\n",
      "loss:-0.06361833959817886, reward:-105.5046615600586\n",
      "loss:-9.812292773858644e-07, reward:-60.88780212402344\n",
      "loss:0.00023640389554202557, reward:-91.9543685913086\n",
      "loss:1.431416421837639e-06, reward:-75.53421020507812\n",
      "loss:1.5099333268153714e-06, reward:-119.22086334228516\n",
      "loss:-9.617986052035121e-08, reward:-161.5711212158203\n",
      "loss:-4.2922280840684834e-08, reward:-135.194580078125\n",
      "loss:-0.0001606855366844684, reward:-71.74256896972656\n",
      "loss:-0.00381337758153677, reward:-129.88926696777344\n",
      "loss:-0.00039893091889098287, reward:-71.92023468017578\n",
      "loss:-2.217055589426309e-05, reward:-21.000274658203125\n",
      "loss:-2.909079967139405e-06, reward:-146.5234832763672\n",
      "loss:5.832546321471455e-07, reward:-150.35888671875\n",
      "loss:0.17719168961048126, reward:-119.86761474609375\n",
      "loss:0.000718582421541214, reward:-138.6179656982422\n",
      "loss:-1.0293980267306324e-05, reward:-108.7339096069336\n",
      "loss:1.1500626442284556e-06, reward:-150.48756408691406\n",
      "loss:-0.07606228440999985, reward:-111.4569091796875\n",
      "loss:-0.09845072031021118, reward:-31.401968002319336\n",
      "loss:-1.4495682989945635e-05, reward:-19.991798400878906\n",
      "loss:-4.789065997101716e-07, reward:-24.97452163696289\n",
      "loss:-1.9590430611060583e-07, reward:-183.83132934570312\n",
      "loss:-0.00043017027201130986, reward:-109.08614349365234\n",
      "loss:-5.408616630120378e-07, reward:-24.04010772705078\n",
      "loss:0.07500044256448746, reward:-164.76504516601562\n",
      "loss:1.1137059118482284e-05, reward:-38.64174270629883\n",
      "loss:9.236046753358096e-05, reward:-169.45053100585938\n",
      "loss:1.002695171337109e-06, reward:-35.599205017089844\n",
      "loss:9.973406349672587e-07, reward:-43.36262512207031\n",
      "loss:-0.15674328804016113, reward:-163.81063842773438\n",
      "loss:0.1889725923538208, reward:-178.46044921875\n",
      "loss:0.09400325268507004, reward:-162.56576538085938\n",
      "loss:0.04378289356827736, reward:-169.29132080078125\n",
      "loss:-2.7645631561767914e-08, reward:-144.0653076171875\n",
      "loss:-0.0001406028459314257, reward:-166.51065063476562\n",
      "loss:0.10154692828655243, reward:-63.857730865478516\n",
      "loss:-0.00018859277770388871, reward:-128.52598571777344\n",
      "loss:0.05731428042054176, reward:-52.90656661987305\n",
      "loss:3.81290701625403e-05, reward:-121.16917419433594\n",
      "loss:0.16867294907569885, reward:-32.24442672729492\n",
      "loss:0.16529910266399384, reward:-153.99053955078125\n",
      "loss:-2.2482108761323616e-06, reward:-139.36732482910156\n",
      "loss:-2.081912775508954e-08, reward:-126.88905334472656\n",
      "loss:-0.07470639050006866, reward:-22.087282180786133\n",
      "loss:0.005194393452256918, reward:-145.66310119628906\n",
      "loss:0.02391859143972397, reward:-19.43570327758789\n",
      "loss:-2.9502275538106915e-06, reward:-66.77713775634766\n",
      "loss:0.024492226541042328, reward:-75.55168151855469\n",
      "loss:-0.2723879814147949, reward:-123.10163879394531\n",
      "loss:0.0003276727511547506, reward:-158.6323699951172\n",
      "loss:-1.0973597852625971e-07, reward:-37.47259521484375\n",
      "loss:-0.153850719332695, reward:-128.82415771484375\n",
      "loss:-4.574261765810661e-06, reward:-5.1331586837768555\n",
      "loss:-1.8358425677433843e-06, reward:-41.52214813232422\n",
      "loss:0.21092961728572845, reward:-136.8422088623047\n",
      "loss:-3.5133358323946595e-05, reward:-71.3335952758789\n",
      "loss:0.03723834455013275, reward:-25.620820999145508\n",
      "loss:0.030785417184233665, reward:-160.25782775878906\n",
      "loss:-0.006378461606800556, reward:-39.58418655395508\n",
      "loss:2.0764586224686354e-05, reward:-32.78141403198242\n",
      "loss:-0.06442607194185257, reward:-31.270681381225586\n",
      "loss:-2.1929274225840345e-05, reward:-77.71326446533203\n",
      "loss:4.345060369814746e-05, reward:-75.17169189453125\n",
      "loss:-7.596565410494804e-05, reward:-8.069276809692383\n",
      "loss:-2.497832610970363e-05, reward:-17.997549057006836\n",
      "loss:-3.5911540408051223e-07, reward:-48.20281219482422\n",
      "loss:0.1535326987504959, reward:-162.38442993164062\n",
      "loss:-2.7143869374413043e-06, reward:-127.57711791992188\n",
      "loss:0.00637869443744421, reward:-136.56773376464844\n",
      "loss:2.397659955022391e-05, reward:-151.2332000732422\n",
      "loss:-9.239352039003279e-08, reward:-168.60462951660156\n",
      "loss:0.00014831239241175354, reward:-144.1624298095703\n",
      "loss:-3.205724965482659e-07, reward:-48.36915969848633\n",
      "loss:-0.10349693894386292, reward:-46.01820373535156\n",
      "loss:-3.3986993912549224e-06, reward:-160.17715454101562\n",
      "loss:3.061083043576218e-05, reward:-76.19601440429688\n",
      "loss:0.13466811180114746, reward:-156.68882751464844\n",
      "loss:-2.6531806724960916e-06, reward:-154.63973999023438\n",
      "loss:-3.4005117299784615e-07, reward:-143.57009887695312\n",
      "loss:-1.466814580908249e-07, reward:-134.76922607421875\n",
      "loss:0.2083883136510849, reward:-72.24114990234375\n",
      "loss:-7.753729005344212e-05, reward:-173.27920532226562\n",
      "loss:0.024143856018781662, reward:-155.9104766845703\n",
      "loss:-0.03761037811636925, reward:-43.58101272583008\n",
      "loss:-4.4989911884840694e-07, reward:-168.9996795654297\n",
      "loss:4.197287850615794e-08, reward:-71.46864318847656\n",
      "loss:-3.3944297683774494e-07, reward:-159.29693603515625\n",
      "loss:-6.994398660253864e-08, reward:-174.30433654785156\n",
      "loss:-8.571859666517412e-09, reward:-25.035255432128906\n",
      "loss:0.007942963391542435, reward:-181.86105346679688\n",
      "loss:-2.1180059661674022e-07, reward:-79.35002899169922\n",
      "loss:-0.06403113901615143, reward:-51.251426696777344\n",
      "loss:-1.387476231684559e-06, reward:-149.0140380859375\n",
      "loss:-0.09752371162176132, reward:-154.20654296875\n",
      "loss:0.1702021360397339, reward:-91.17402648925781\n",
      "loss:-1.6056569620559458e-06, reward:-161.76718139648438\n",
      "loss:-4.270909266779199e-05, reward:-6.015328407287598\n",
      "loss:2.277429530295194e-06, reward:-74.31883239746094\n",
      "loss:1.2061532572715805e-07, reward:-111.55937957763672\n",
      "loss:4.998051281290827e-06, reward:-87.28892517089844\n",
      "loss:-4.218378535369993e-08, reward:-134.16195678710938\n",
      "loss:-0.022072698920965195, reward:-19.15094566345215\n",
      "loss:-3.0480777013508487e-08, reward:5.2924699783325195\n",
      "loss:0.0008493912755511701, reward:-111.04045104980469\n",
      "loss:-1.5686781651425008e-08, reward:-168.77206420898438\n",
      "loss:-1.2245077414263505e-06, reward:-168.87820434570312\n",
      "loss:-0.019054515287280083, reward:-0.6789512634277344\n",
      "loss:-7.149106977522024e-07, reward:-39.870033264160156\n",
      "loss:-5.723472895624582e-06, reward:-162.86233520507812\n",
      "loss:8.215482694140519e-07, reward:-82.36182403564453\n",
      "loss:-0.0002767834230326116, reward:-52.83757781982422\n",
      "loss:0.2680666148662567, reward:-51.61594009399414\n",
      "loss:-5.292293963066186e-07, reward:-147.42498779296875\n",
      "loss:-5.061970398401172e-08, reward:-144.85667419433594\n",
      "loss:-5.237223490439646e-07, reward:-170.68893432617188\n",
      "loss:-1.0312829545000568e-05, reward:-112.69235229492188\n",
      "loss:7.280267482201452e-07, reward:-86.1136474609375\n",
      "loss:-1.0359671165360851e-07, reward:-163.98460388183594\n",
      "loss:-1.8782398910843767e-05, reward:-40.97941207885742\n",
      "loss:-2.21693298954051e-05, reward:-155.537353515625\n",
      "loss:-9.824684177317522e-09, reward:-142.49578857421875\n",
      "loss:0.07358034700155258, reward:-77.51426696777344\n",
      "loss:-3.0636072096967837e-06, reward:-64.91974639892578\n",
      "loss:-4.641506734515133e-08, reward:-139.084228515625\n",
      "loss:-1.8097819065587828e-07, reward:-64.05298614501953\n",
      "loss:0.010845414362847805, reward:-45.1583366394043\n",
      "loss:-0.0004902684595435858, reward:-84.9908447265625\n",
      "loss:-0.00018508369976188987, reward:-131.21151733398438\n",
      "loss:-9.4103934316081e-06, reward:-58.735328674316406\n",
      "loss:-5.8993355196435004e-06, reward:-52.55876922607422\n",
      "loss:0.0009404905140399933, reward:-34.94950485229492\n",
      "loss:-2.0924035197822377e-06, reward:-24.34323501586914\n",
      "loss:-1.4390259366336977e-06, reward:-162.80819702148438\n",
      "loss:-1.1088327589448e-08, reward:-123.24374389648438\n",
      "loss:-4.046376488986425e-06, reward:-73.97711944580078\n",
      "loss:-4.284384544916975e-07, reward:-13.99965763092041\n",
      "loss:0.00016265535668935627, reward:-148.51885986328125\n",
      "loss:-2.8627931669689133e-07, reward:-31.793132781982422\n",
      "loss:-0.12109827250242233, reward:-21.556968688964844\n",
      "loss:-0.002215711632743478, reward:-102.34696960449219\n",
      "loss:3.8279534919638536e-07, reward:-70.14440155029297\n",
      "loss:-9.666626965554315e-07, reward:-164.58267211914062\n",
      "loss:-4.111069756618235e-06, reward:-151.75360107421875\n",
      "loss:-1.2365454495011363e-05, reward:-55.24810028076172\n",
      "loss:-6.629798008361831e-05, reward:-103.86266326904297\n",
      "loss:-8.262470885256334e-08, reward:-164.2838592529297\n",
      "loss:1.585806153059366e-09, reward:-150.00755310058594\n",
      "loss:-0.09197723865509033, reward:-59.68347930908203\n",
      "loss:-2.176978341594804e-06, reward:-169.74595642089844\n",
      "loss:-0.0005149223725311458, reward:-106.62907409667969\n",
      "loss:-1.8951643596665235e-06, reward:-161.60459899902344\n",
      "loss:-3.022155965481943e-07, reward:-128.60133361816406\n",
      "loss:-5.71852410757856e-07, reward:8.1259183883667\n",
      "loss:-2.4580391254858114e-05, reward:-116.47642517089844\n",
      "loss:-8.724875897314632e-07, reward:-168.7567901611328\n",
      "loss:-3.3121950764325447e-06, reward:-139.9365692138672\n",
      "loss:4.848625962949882e-07, reward:-86.82232666015625\n",
      "loss:-1.0234930414299015e-06, reward:-90.21939849853516\n",
      "loss:-7.280174031620845e-06, reward:-63.42951202392578\n",
      "loss:-4.2957996271297816e-08, reward:-153.83616638183594\n",
      "loss:-5.088563557364978e-05, reward:-156.58570861816406\n",
      "loss:-3.9499565900769085e-05, reward:-104.33811950683594\n",
      "loss:7.885529385021073e-08, reward:-101.56595611572266\n",
      "loss:-5.160214868737967e-07, reward:-82.02149963378906\n",
      "loss:-9.417805557632164e-08, reward:-24.31862449645996\n",
      "loss:-2.1117452888574917e-06, reward:-92.87654113769531\n",
      "loss:-8.067713963555434e-08, reward:-110.33229064941406\n",
      "loss:-0.0003431650693528354, reward:-50.03205871582031\n",
      "loss:-2.518321480238228e-07, reward:-15.356632232666016\n",
      "loss:4.191349489701679e-07, reward:-89.9406509399414\n",
      "loss:-9.306089850724675e-06, reward:-134.46780395507812\n",
      "loss:-2.0536135991733317e-07, reward:-177.79034423828125\n",
      "loss:-2.1500276488950476e-05, reward:-79.21099090576172\n",
      "loss:-2.39662909962135e-07, reward:-169.79693603515625\n",
      "loss:-0.0001594243076397106, reward:-54.085838317871094\n",
      "loss:-1.2545251593110152e-06, reward:-98.29943084716797\n",
      "loss:-2.088873074512776e-08, reward:-158.44692993164062\n",
      "loss:9.104986986585573e-08, reward:-119.4486312866211\n",
      "loss:-0.0019328589551150799, reward:-12.906983375549316\n",
      "loss:-1.9479820423384808e-08, reward:-155.21017456054688\n",
      "loss:5.182772042644501e-07, reward:-26.324626922607422\n",
      "loss:-5.052158513763061e-08, reward:-119.44343566894531\n",
      "loss:-4.091041773790494e-06, reward:-37.835044860839844\n",
      "loss:-0.0005447603762149811, reward:-115.29679870605469\n",
      "loss:-2.6396963903607684e-07, reward:-51.760704040527344\n",
      "loss:-2.417224459350109e-05, reward:-173.9504852294922\n",
      "loss:-3.645923527528794e-07, reward:-100.91934204101562\n",
      "loss:1.1423555434930677e-09, reward:-78.1865234375\n",
      "loss:-1.2675125162786571e-06, reward:-29.431884765625\n",
      "loss:-1.7805076879540138e-07, reward:-77.07626342773438\n",
      "loss:-0.0002610826923046261, reward:-142.988037109375\n",
      "loss:-8.375817373007521e-08, reward:-135.08692932128906\n",
      "loss:-4.0829689851307194e-08, reward:-115.79524230957031\n",
      "loss:-3.447213003937577e-08, reward:-138.0347900390625\n",
      "loss:-4.2199012568744365e-06, reward:-47.098724365234375\n",
      "loss:-1.9096408720997715e-07, reward:-55.60524368286133\n",
      "loss:-1.931730650994723e-07, reward:-26.631450653076172\n",
      "loss:-0.0002532719518058002, reward:-0.013841867446899414\n",
      "loss:-3.0382611271306814e-07, reward:-137.98477172851562\n",
      "loss:-2.324547040188918e-06, reward:-49.06400680541992\n",
      "loss:-1.5164080195972929e-06, reward:-52.15052032470703\n",
      "loss:-6.201104838510219e-07, reward:-113.69792938232422\n",
      "loss:-1.6325405738371046e-07, reward:-139.2199249267578\n",
      "loss:-6.415233997358882e-07, reward:-89.64173889160156\n",
      "loss:-2.5985675620177062e-06, reward:-176.35536193847656\n",
      "loss:-2.7605880248415815e-08, reward:-134.00888061523438\n",
      "loss:-3.7183798440310056e-07, reward:1.9208989143371582\n",
      "loss:1.2897169199277414e-07, reward:-109.44965362548828\n",
      "loss:-2.5215535970346536e-06, reward:-131.23583984375\n",
      "loss:8.138306952787389e-07, reward:-81.5295639038086\n",
      "loss:-4.771233648170892e-07, reward:-120.24059295654297\n",
      "loss:-1.716766462322994e-07, reward:-110.41674041748047\n",
      "loss:5.102624527353328e-06, reward:-30.133399963378906\n",
      "loss:-0.002486300887539983, reward:-36.591732025146484\n",
      "loss:-2.073862646057023e-07, reward:-145.18911743164062\n",
      "loss:-1.389156949471726e-07, reward:-94.20939636230469\n",
      "loss:-1.4122383618087042e-07, reward:-68.25777435302734\n",
      "loss:-5.85741872782819e-07, reward:-171.17031860351562\n",
      "loss:-4.705120772996452e-06, reward:-39.865135192871094\n",
      "loss:-0.0025245968718081713, reward:-23.889636993408203\n",
      "loss:-7.741085937595926e-06, reward:-162.285400390625\n",
      "loss:3.2769562494650017e-06, reward:-132.45175170898438\n",
      "loss:-0.0004278917331248522, reward:-125.96420288085938\n",
      "loss:-2.8437945331916126e-08, reward:-153.58482360839844\n",
      "loss:-0.000533425307366997, reward:-136.73484802246094\n",
      "loss:-7.21146420801233e-07, reward:-48.729339599609375\n",
      "loss:4.059438651893288e-08, reward:-42.02094268798828\n",
      "loss:0.0005105159943923354, reward:-33.765716552734375\n",
      "loss:-9.33364585620211e-09, reward:-133.51939392089844\n",
      "loss:-4.3394709337007953e-07, reward:-28.524600982666016\n",
      "loss:-1.943999677678221e-06, reward:-76.17243957519531\n",
      "loss:-2.0252272747711686e-07, reward:-77.6446533203125\n",
      "loss:-2.0147979284956818e-07, reward:-43.221099853515625\n",
      "loss:-2.3357348766239738e-07, reward:-141.47244262695312\n",
      "loss:-6.352978942913978e-08, reward:-164.63291931152344\n",
      "loss:-2.2282659983829944e-07, reward:-167.81747436523438\n",
      "loss:-1.0032494834888439e-08, reward:-136.34716796875\n",
      "loss:-6.98337089488632e-07, reward:-163.44125366210938\n",
      "loss:-0.00020697788568213582, reward:-114.3668441772461\n",
      "loss:-1.0750400178949349e-05, reward:-55.46931076049805\n",
      "loss:2.3090110516932327e-06, reward:-35.10888671875\n",
      "loss:-0.0014181784354150295, reward:-27.22250747680664\n",
      "loss:-4.5471972498489777e-07, reward:-173.91419982910156\n",
      "loss:-5.89407456175195e-09, reward:-130.0513916015625\n",
      "loss:-7.232059942907654e-06, reward:-165.67852783203125\n",
      "loss:-2.863975190336987e-08, reward:-166.3954620361328\n",
      "loss:-3.9362669213005574e-07, reward:-112.90345001220703\n",
      "loss:-7.951652492010908e-08, reward:-169.43804931640625\n",
      "loss:-1.651913805744698e-08, reward:-136.33851623535156\n",
      "loss:0.0641813725233078, reward:-9.07162094116211\n",
      "loss:-0.0007998390938155353, reward:-124.0737533569336\n",
      "loss:-1.291475996367808e-06, reward:-119.61669158935547\n",
      "loss:1.045039425662253e-06, reward:-70.464111328125\n",
      "loss:-5.391109425545437e-07, reward:-160.32493591308594\n",
      "loss:-9.310079462920839e-07, reward:-170.16070556640625\n",
      "loss:-6.936164140824985e-07, reward:-169.3191375732422\n",
      "loss:-4.759387138619786e-06, reward:-106.48706817626953\n",
      "loss:-1.1700133200065466e-06, reward:-156.9144744873047\n",
      "loss:-6.8463168645394035e-06, reward:-149.81008911132812\n",
      "loss:-2.1090610857754655e-07, reward:-144.11289978027344\n",
      "loss:-1.9590064766816795e-05, reward:-177.18679809570312\n",
      "loss:-3.974205537815578e-05, reward:-151.93988037109375\n",
      "loss:-3.2745967359915085e-07, reward:-137.78463745117188\n",
      "loss:-0.0004518636269494891, reward:-163.15731811523438\n",
      "loss:-7.7603608588106e-06, reward:-25.506366729736328\n",
      "loss:-6.503012991743162e-05, reward:-114.6912841796875\n",
      "loss:-4.972843026251894e-09, reward:-163.91847229003906\n",
      "loss:-2.92358606657217e-07, reward:-138.58428955078125\n",
      "loss:-1.793178228126635e-08, reward:-56.47511672973633\n",
      "loss:-4.274989180430566e-07, reward:-56.989070892333984\n",
      "loss:-4.6798271796433255e-05, reward:-180.2626190185547\n",
      "loss:-1.7708383666104055e-06, reward:-126.52650451660156\n",
      "loss:-2.1586356524494477e-07, reward:-30.676956176757812\n",
      "loss:-4.37972467182135e-08, reward:-129.34793090820312\n",
      "loss:-1.695136297996669e-08, reward:-115.85293579101562\n",
      "loss:-1.800505401661212e-06, reward:-158.39230346679688\n",
      "loss:-2.0575663484123652e-07, reward:-125.9854736328125\n",
      "loss:-1.4314900909084827e-07, reward:-169.07623291015625\n",
      "loss:0.0003266963758505881, reward:-73.62741088867188\n",
      "loss:-5.145841441844823e-07, reward:1.443232536315918\n",
      "loss:-1.0147564353246707e-05, reward:-128.19979858398438\n",
      "loss:-7.932890730444342e-05, reward:-177.12852478027344\n",
      "loss:1.5462198632576474e-08, reward:-32.84380340576172\n",
      "loss:-1.5155839605540677e-07, reward:-141.74038696289062\n",
      "loss:-1.6258503876542818e-07, reward:-13.345176696777344\n",
      "loss:-7.845048457966186e-06, reward:-51.598388671875\n",
      "loss:-1.5503957229157095e-07, reward:-9.808645248413086\n",
      "loss:-3.0591168069804553e-06, reward:-88.60324096679688\n",
      "loss:-2.657208824530244e-06, reward:-83.88754272460938\n",
      "loss:-0.00010427255620015785, reward:-111.66490173339844\n",
      "loss:2.5412446120753884e-06, reward:-13.38831901550293\n",
      "loss:-1.344837528449716e-06, reward:-156.37567138671875\n",
      "loss:0.00012189532571937889, reward:-92.76410675048828\n",
      "loss:-3.2982481457111135e-07, reward:-149.4779052734375\n",
      "loss:-2.6528738089837134e-05, reward:-79.26322937011719\n",
      "loss:-1.1337701835145708e-06, reward:-18.04708480834961\n",
      "loss:-5.646845693263458e-06, reward:-30.181625366210938\n",
      "loss:-4.036573741927896e-08, reward:-122.68702697753906\n",
      "loss:4.831255395743028e-08, reward:-47.29216766357422\n",
      "loss:-4.604038750244399e-08, reward:-173.2969970703125\n",
      "loss:3.883500880874635e-07, reward:-94.4350357055664\n",
      "loss:-3.085204298258759e-06, reward:-162.47862243652344\n",
      "loss:-1.8537697599185776e-07, reward:-27.216421127319336\n",
      "loss:-3.905714493157575e-06, reward:-41.040870666503906\n",
      "loss:-1.7674314221949317e-05, reward:-124.99105072021484\n",
      "loss:-1.293123830237164e-07, reward:-121.78115844726562\n",
      "loss:-6.004510169077548e-07, reward:-79.13398742675781\n",
      "loss:-6.597374522243626e-07, reward:-28.5524845123291\n",
      "loss:-5.44175179584272e-07, reward:-96.4849853515625\n",
      "loss:-5.982380116620334e-06, reward:-81.74300384521484\n",
      "loss:-3.6780681966774864e-07, reward:-92.80841827392578\n",
      "loss:-1.1810050182248233e-06, reward:-172.26065063476562\n",
      "loss:-0.0006484018522314727, reward:-156.50579833984375\n",
      "loss:-3.363050211646623e-07, reward:-24.75902557373047\n",
      "loss:-4.933974196319468e-06, reward:-113.26382446289062\n",
      "loss:-2.6495758902456146e-06, reward:-169.13238525390625\n",
      "loss:4.6241184463724494e-05, reward:-21.586393356323242\n",
      "loss:-4.047335096402094e-05, reward:-162.46453857421875\n",
      "loss:-1.4219007482552115e-07, reward:-144.1342315673828\n",
      "loss:-3.677905988297425e-05, reward:-15.804692268371582\n",
      "loss:-2.135240606548905e-08, reward:-120.69488525390625\n",
      "loss:0.14519758522510529, reward:-38.532352447509766\n",
      "loss:-4.849751348956488e-06, reward:-165.1781768798828\n",
      "loss:-0.0007329903892241418, reward:-95.05844116210938\n",
      "loss:-1.0360848534674005e-07, reward:-40.37678909301758\n",
      "loss:-4.568358235701453e-06, reward:-110.63062286376953\n",
      "loss:-4.338765847933246e-06, reward:-134.0380859375\n",
      "loss:-0.00011895196803379804, reward:-127.29873657226562\n",
      "loss:-0.0001738863647915423, reward:-14.991079330444336\n",
      "loss:-3.954980911657913e-06, reward:-163.17868041992188\n",
      "loss:-8.340900876646629e-07, reward:-169.79689025878906\n",
      "loss:-2.7281457732897252e-05, reward:-1.2846832275390625\n",
      "loss:-5.964542992842325e-08, reward:-175.66603088378906\n",
      "loss:-2.710358785407152e-06, reward:-9.29386043548584\n",
      "loss:-5.433494210116407e-10, reward:-132.4966583251953\n",
      "loss:3.6520042101528816e-08, reward:-114.86811065673828\n",
      "loss:-4.4485204853117466e-07, reward:-24.670442581176758\n",
      "loss:-4.5280148697202094e-07, reward:-24.790611267089844\n",
      "loss:-0.002318656537681818, reward:-171.7883758544922\n",
      "loss:-4.282666665744728e-09, reward:-160.5994873046875\n",
      "loss:-4.598020950652426e-07, reward:-31.58487319946289\n",
      "loss:-1.5982115186830015e-08, reward:-57.76774978637695\n",
      "loss:0.0005563686136156321, reward:-103.85909271240234\n",
      "loss:-2.7645680233945313e-07, reward:-167.3946990966797\n",
      "loss:-4.7013440962473396e-07, reward:-176.98419189453125\n",
      "loss:-3.437733937516896e-07, reward:-127.28871154785156\n",
      "loss:-4.383966825116659e-06, reward:-168.41702270507812\n",
      "loss:-8.32550824725331e-07, reward:-137.7691192626953\n",
      "loss:5.0494627430452965e-06, reward:-26.9781494140625\n",
      "loss:-4.59005095763132e-05, reward:-52.24335479736328\n",
      "loss:4.220762093609665e-06, reward:-21.305803298950195\n",
      "loss:-3.155539900490112e-07, reward:-168.68222045898438\n",
      "loss:-1.0295500032952987e-05, reward:-80.69036102294922\n",
      "loss:-0.00012985158537048846, reward:-51.61255645751953\n",
      "loss:-0.05440635234117508, reward:-97.94242095947266\n",
      "loss:-5.179155948553671e-08, reward:-98.18089294433594\n",
      "loss:-6.502673932118341e-05, reward:-146.5655517578125\n",
      "loss:-4.6757872951275203e-07, reward:-55.52947235107422\n",
      "loss:-5.738448089687154e-05, reward:-123.82038879394531\n",
      "loss:-9.413216872644625e-10, reward:-135.21484375\n",
      "loss:-1.6597622334302287e-06, reward:-114.64424896240234\n",
      "loss:-1.3866025483366684e-07, reward:-46.52963638305664\n",
      "loss:-2.5854603791231057e-07, reward:-99.2476577758789\n",
      "loss:4.258157844105881e-07, reward:-24.53017234802246\n",
      "loss:-5.831488670082763e-05, reward:-178.31582641601562\n",
      "loss:3.4272750326636015e-06, reward:-145.33740234375\n",
      "loss:-0.0004579912347253412, reward:-146.5032501220703\n",
      "loss:4.707434527517762e-06, reward:-119.82546997070312\n",
      "loss:-7.731825917289825e-07, reward:-127.08208465576172\n",
      "loss:-1.6137099123625376e-07, reward:-164.70367431640625\n",
      "loss:1.0362459761381615e-06, reward:-98.8836669921875\n",
      "loss:-0.05481654778122902, reward:-40.717247009277344\n",
      "loss:0.10435622930526733, reward:-95.07366943359375\n",
      "loss:-0.0001679309643805027, reward:-51.833412170410156\n",
      "loss:0.260795921087265, reward:-50.12012481689453\n",
      "loss:-0.05916329473257065, reward:-173.80807495117188\n",
      "loss:-4.393034032545984e-05, reward:-44.760902404785156\n",
      "loss:-0.06231527030467987, reward:-165.58465576171875\n",
      "loss:-7.29966931345416e-09, reward:-88.15403747558594\n",
      "loss:-3.1671988836023957e-06, reward:-26.735483169555664\n",
      "loss:-0.007466030307114124, reward:-143.34051513671875\n",
      "loss:-4.898228326055687e-06, reward:-17.697649002075195\n",
      "loss:0.1257748305797577, reward:-67.03850555419922\n",
      "loss:-8.164273168631553e-08, reward:-12.916183471679688\n",
      "loss:-6.166684052288929e-09, reward:-120.31595611572266\n",
      "loss:-0.1477051079273224, reward:-106.4212646484375\n",
      "loss:-0.07168745249509811, reward:-178.72616577148438\n",
      "loss:0.0006441001314669847, reward:-149.90887451171875\n",
      "loss:-0.19253230094909668, reward:-67.64874267578125\n",
      "loss:9.25831773201935e-06, reward:-45.51807403564453\n",
      "loss:-2.504453186702449e-05, reward:-48.24891662597656\n",
      "loss:-4.350043436573969e-09, reward:-180.23699951171875\n",
      "loss:-2.1561295397987124e-06, reward:-132.4405059814453\n",
      "loss:-4.885474709226401e-07, reward:-144.38522338867188\n",
      "loss:-0.0003733148332685232, reward:-59.26345443725586\n",
      "loss:0.1965913325548172, reward:-66.57727813720703\n",
      "loss:-2.102004373227828e-06, reward:-36.364864349365234\n",
      "loss:5.892677563679172e-06, reward:-35.18001174926758\n",
      "loss:-6.04307928142589e-08, reward:-26.843881607055664\n",
      "loss:0.18285249173641205, reward:-125.3384780883789\n",
      "loss:6.996642332524061e-05, reward:-72.36188507080078\n",
      "loss:0.0005232094554230571, reward:-125.86678314208984\n",
      "loss:-0.01574222557246685, reward:-40.45809555053711\n",
      "loss:-3.36158836944378e-06, reward:-35.18215560913086\n",
      "loss:-6.28108182354481e-07, reward:-118.43009948730469\n",
      "loss:-7.041880598990247e-05, reward:-158.6871795654297\n",
      "loss:-8.260954928118736e-05, reward:-172.94918823242188\n",
      "loss:3.846675463137217e-05, reward:-80.76986694335938\n",
      "loss:-0.028520934283733368, reward:-40.48219680786133\n",
      "loss:-0.18558388948440552, reward:-55.01618957519531\n",
      "loss:0.10221097618341446, reward:-22.53302574157715\n",
      "loss:8.351486030733213e-06, reward:-35.836181640625\n",
      "loss:0.002439442789182067, reward:-115.84749603271484\n",
      "loss:-1.7290447431150824e-05, reward:-46.93629837036133\n",
      "loss:-5.215918363887795e-09, reward:-135.7501220703125\n"
     ]
    }
   ],
   "source": [
    "from tqdm.auto import tqdm\n",
    "\n",
    "for _ in tqdm(range(1000)):\n",
    "    initial_z, initial_h, (h_n, c_n) = sellect_random_scene(images)\n",
    "    loss, reward = controller_train(50, C, optimizer, initial_z, initial_h, (h_n, c_n))\n",
    "    print(f\"loss:{loss}, reward:{reward}\")"
   ]
  },
  {
   "cell_type": "code",
   "execution_count": 11,
   "id": "6a699012",
   "metadata": {},
   "outputs": [],
   "source": [
    "torch.save(C.state_dict(), 'controller-1')"
   ]
  }
 ],
 "metadata": {
  "kernelspec": {
   "display_name": "world-model",
   "language": "python",
   "name": "python3"
  },
  "language_info": {
   "codemirror_mode": {
    "name": "ipython",
    "version": 3
   },
   "file_extension": ".py",
   "mimetype": "text/x-python",
   "name": "python",
   "nbconvert_exporter": "python",
   "pygments_lexer": "ipython3",
   "version": "3.10.18"
  }
 },
 "nbformat": 4,
 "nbformat_minor": 5
}
